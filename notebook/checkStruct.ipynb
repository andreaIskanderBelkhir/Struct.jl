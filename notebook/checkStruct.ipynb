{
 "cells": [
  {
   "cell_type": "markdown",
   "id": "d37d076b",
   "metadata": {},
   "source": [
    "#   Struct\n",
    "\n",
    "###  Andrea Iskander Belkhir id : 511089\n",
    "\n",
    "###  Beyza Özdemir id : 576145"
   ]
  },
  {
   "cell_type": "code",
   "execution_count": 1,
   "id": "de8f3e91",
   "metadata": {},
   "outputs": [
    {
     "data": {
      "text/plain": [
       "LinearAlgebraicRepresentation"
      ]
     },
     "execution_count": 1,
     "metadata": {},
     "output_type": "execute_result"
    }
   ],
   "source": [
    "using BenchmarkTools\n",
    "using LinearAlgebra\n",
    "using StaticArrays\n",
    "using LinearAlgebraicRepresentation\n",
    "Lar = LinearAlgebraicRepresentation"
   ]
  },
  {
   "cell_type": "markdown",
   "id": "2c846161",
   "metadata": {},
   "source": [
    "# CheckStruct(lst)"
   ]
  },
  {
   "cell_type": "markdown",
   "id": "8cada034",
   "metadata": {},
   "source": [
    "return the lenght(dimension) of lst"
   ]
  },
  {
   "cell_type": "code",
   "execution_count": 2,
   "id": "7f7085ee",
   "metadata": {},
   "outputs": [
    {
     "data": {
      "text/plain": [
       "1-element Vector{Tuple{Matrix{Float64}, Vector{Vector{Int64}}}}:\n",
       " ([0.0 0.0 1.0 1.0; 0.0 1.0 0.0 1.0], [[0, 1, 2, 3]])"
      ]
     },
     "execution_count": 2,
     "metadata": {},
     "output_type": "execute_result"
    }
   ],
   "source": [
    "square = [([[0.0;0] [0.0;1] [1.0;0] [1.0;1]], [[0,1,2,3]])]"
   ]
  },
  {
   "cell_type": "code",
   "execution_count": 3,
   "id": "1a007abd",
   "metadata": {},
   "outputs": [
    {
     "data": {
      "text/plain": [
       "checkStruct (generic function with 1 method)"
      ]
     },
     "execution_count": 3,
     "metadata": {},
     "output_type": "execute_result"
    }
   ],
   "source": [
    "function checkStruct(lst)\n",
    "\tobj = lst[1]\n",
    "\tif isa(obj,Matrix)\n",
    "\t\tdim = size(obj,1)-1\n",
    "\telseif (isa(obj,Tuple) || isa(obj,Array))\n",
    "\t\tdim = length(obj[1][:,1])\n",
    "\n",
    "\telseif isa(obj,Lar.Struct)\n",
    "\t\tdim = length(obj.box[1])\n",
    "\tend\n",
    "\treturn dim\n",
    "end"
   ]
  },
  {
   "cell_type": "code",
   "execution_count": 4,
   "id": "4355eda4",
   "metadata": {},
   "outputs": [
    {
     "name": "stdout",
     "output_type": "stream",
     "text": [
      "  62.831 ns (1 allocation: 96 bytes)\n"
     ]
    },
    {
     "data": {
      "text/plain": [
       "2"
      ]
     },
     "execution_count": 4,
     "metadata": {},
     "output_type": "execute_result"
    }
   ],
   "source": [
    "@btime checkStruct(square)"
   ]
  },
  {
   "cell_type": "markdown",
   "id": "e7de8570",
   "metadata": {},
   "source": [
    "# improvment and changes"
   ]
  },
  {
   "cell_type": "code",
   "execution_count": 5,
   "id": "e8da3d8a",
   "metadata": {},
   "outputs": [
    {
     "data": {
      "text/plain": [
       "checkStruct_imp (generic function with 1 method)"
      ]
     },
     "execution_count": 5,
     "metadata": {},
     "output_type": "execute_result"
    }
   ],
   "source": [
    "function checkStruct_imp(lst)\n",
    "\tobj = lst[1]\n",
    "\tif (isa(obj,MMatrix) || isa(obj,Matrix))\n",
    "\t\tdim = size(obj,1)-1\n",
    "\telseif (isa(obj,Tuple) || isa(obj,Array))\n",
    "\t\tdim = length(@view (obj[1][:,1]))\n",
    "\n",
    "\telseif isa(obj,Lar.Struct)\n",
    "\t\tdim = length(obj.box[1])\n",
    "\tend\n",
    "\treturn dim\n",
    "end"
   ]
  },
  {
   "cell_type": "code",
   "execution_count": 6,
   "id": "f440e001",
   "metadata": {},
   "outputs": [
    {
     "name": "stdout",
     "output_type": "stream",
     "text": [
      "  24.799 ns (0 allocations: 0 bytes)\n"
     ]
    },
    {
     "data": {
      "text/plain": [
       "2"
      ]
     },
     "execution_count": 6,
     "metadata": {},
     "output_type": "execute_result"
    }
   ],
   "source": [
    "@btime checkStruct_imp(square)"
   ]
  },
  {
   "cell_type": "code",
   "execution_count": 7,
   "id": "dcc7906f",
   "metadata": {},
   "outputs": [
    {
     "data": {
      "text/plain": [
       "BenchmarkTools.Trial: 10000 samples with 996 evaluations.\n",
       " Range \u001b[90m(\u001b[39m\u001b[36m\u001b[1mmin\u001b[22m\u001b[39m … \u001b[35mmax\u001b[39m\u001b[90m):  \u001b[39m\u001b[36m\u001b[1m24.699 ns\u001b[22m\u001b[39m … \u001b[35m216.165 ns\u001b[39m  \u001b[90m┊\u001b[39m GC \u001b[90m(\u001b[39mmin … max\u001b[90m): \u001b[39m0.00% … 0.00%\n",
       " Time  \u001b[90m(\u001b[39m\u001b[34m\u001b[1mmedian\u001b[22m\u001b[39m\u001b[90m):     \u001b[39m\u001b[34m\u001b[1m25.201 ns               \u001b[22m\u001b[39m\u001b[90m┊\u001b[39m GC \u001b[90m(\u001b[39mmedian\u001b[90m):    \u001b[39m0.00%\n",
       " Time  \u001b[90m(\u001b[39m\u001b[32m\u001b[1mmean\u001b[22m\u001b[39m ± \u001b[32mσ\u001b[39m\u001b[90m):   \u001b[39m\u001b[32m\u001b[1m28.328 ns\u001b[22m\u001b[39m ± \u001b[32m 10.150 ns\u001b[39m  \u001b[90m┊\u001b[39m GC \u001b[90m(\u001b[39mmean ± σ\u001b[90m):  \u001b[39m0.00% ± 0.00%\n",
       "\n",
       "  \u001b[39m█\u001b[34m▅\u001b[39m\u001b[39m▅\u001b[39m▅\u001b[32m▃\u001b[39m\u001b[39m▁\u001b[39m▁\u001b[39m▄\u001b[39m▁\u001b[39m▁\u001b[39m▁\u001b[39m▁\u001b[39m \u001b[39m \u001b[39m \u001b[39m \u001b[39m \u001b[39m \u001b[39m \u001b[39m \u001b[39m \u001b[39m \u001b[39m \u001b[39m \u001b[39m \u001b[39m \u001b[39m \u001b[39m \u001b[39m \u001b[39m \u001b[39m \u001b[39m \u001b[39m \u001b[39m \u001b[39m \u001b[39m \u001b[39m \u001b[39m \u001b[39m \u001b[39m \u001b[39m \u001b[39m \u001b[39m \u001b[39m \u001b[39m \u001b[39m \u001b[39m \u001b[39m \u001b[39m \u001b[39m \u001b[39m \u001b[39m \u001b[39m \u001b[39m \u001b[39m \u001b[39m \u001b[39m \u001b[39m \u001b[39m \u001b[39m \u001b[39m \u001b[39m▁\n",
       "  \u001b[39m█\u001b[34m█\u001b[39m\u001b[39m█\u001b[39m█\u001b[32m█\u001b[39m\u001b[39m█\u001b[39m█\u001b[39m█\u001b[39m█\u001b[39m█\u001b[39m█\u001b[39m█\u001b[39m█\u001b[39m▇\u001b[39m▇\u001b[39m▆\u001b[39m▇\u001b[39m▆\u001b[39m▆\u001b[39m▇\u001b[39m▇\u001b[39m▇\u001b[39m▆\u001b[39m▆\u001b[39m▇\u001b[39m▆\u001b[39m▆\u001b[39m▅\u001b[39m▇\u001b[39m█\u001b[39m▆\u001b[39m▆\u001b[39m▇\u001b[39m▆\u001b[39m▆\u001b[39m▆\u001b[39m▇\u001b[39m▅\u001b[39m▅\u001b[39m▅\u001b[39m▅\u001b[39m▅\u001b[39m▆\u001b[39m▅\u001b[39m▄\u001b[39m▆\u001b[39m▅\u001b[39m▄\u001b[39m▅\u001b[39m▆\u001b[39m▅\u001b[39m▁\u001b[39m▅\u001b[39m▄\u001b[39m▅\u001b[39m▅\u001b[39m▄\u001b[39m▅\u001b[39m▄\u001b[39m▅\u001b[39m \u001b[39m█\n",
       "  24.7 ns\u001b[90m       \u001b[39m\u001b[90mHistogram: \u001b[39m\u001b[90m\u001b[1mlog(\u001b[22m\u001b[39m\u001b[90mfrequency\u001b[39m\u001b[90m\u001b[1m)\u001b[22m\u001b[39m\u001b[90m by time\u001b[39m      77.5 ns \u001b[0m\u001b[1m<\u001b[22m\n",
       "\n",
       " Memory estimate\u001b[90m: \u001b[39m\u001b[33m0 bytes\u001b[39m, allocs estimate\u001b[90m: \u001b[39m\u001b[33m0\u001b[39m."
      ]
     },
     "execution_count": 7,
     "metadata": {},
     "output_type": "execute_result"
    }
   ],
   "source": [
    "@benchmark checkStruct_imp(square)"
   ]
  },
  {
   "cell_type": "code",
   "execution_count": null,
   "id": "5da5c347",
   "metadata": {},
   "outputs": [],
   "source": []
  }
 ],
 "metadata": {
  "kernelspec": {
   "display_name": "Julia 1.6.5",
   "language": "julia",
   "name": "julia-1.6"
  },
  "language_info": {
   "file_extension": ".jl",
   "mimetype": "application/julia",
   "name": "julia",
   "version": "1.6.5"
  }
 },
 "nbformat": 4,
 "nbformat_minor": 5
}
