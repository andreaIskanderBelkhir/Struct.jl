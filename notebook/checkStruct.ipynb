{
 "cells": [
  {
   "cell_type": "code",
   "execution_count": 6,
   "id": "de8f3e91",
   "metadata": {},
   "outputs": [],
   "source": [
    "using BenchmarkTools\n",
    "using LinearAlgebra\n"
   ]
  },
  {
   "cell_type": "markdown",
   "id": "2c846161",
   "metadata": {},
   "source": [
    "# CheckStruct(lst)"
   ]
  },
  {
   "cell_type": "markdown",
   "id": "8cada034",
   "metadata": {},
   "source": [
    "return the lenght(dimension) of lst"
   ]
  },
  {
   "cell_type": "code",
   "execution_count": 12,
   "id": "7f7085ee",
   "metadata": {},
   "outputs": [
    {
     "data": {
      "text/plain": [
       "1-element Vector{Tuple{Matrix{Float64}, Vector{Vector{Int64}}}}:\n",
       " ([0.0 0.0 1.0 1.0; 0.0 1.0 0.0 1.0], [[0, 1, 2, 3]])"
      ]
     },
     "execution_count": 12,
     "metadata": {},
     "output_type": "execute_result"
    }
   ],
   "source": [
    "square = [([[0.0;0] [0.0;1] [1.0;0] [1.0;1]], [[0,1,2,3]])]"
   ]
  },
  {
   "cell_type": "code",
   "execution_count": 8,
   "id": "1a007abd",
   "metadata": {},
   "outputs": [
    {
     "data": {
      "text/plain": [
       "checkStruct (generic function with 1 method)"
      ]
     },
     "execution_count": 8,
     "metadata": {},
     "output_type": "execute_result"
    }
   ],
   "source": [
    "function checkStruct(lst)\n",
    "\tobj = lst[1]\n",
    "\tif isa(obj,Matrix)\n",
    "\t\tdim = size(obj,1)-1\n",
    "\telseif (isa(obj,Tuple) || isa(obj,Array))\n",
    "\t\tdim = length(obj[1][:,1])\n",
    "\n",
    "\telseif isa(obj,Lar.Struct)\n",
    "\t\tdim = length(obj.box[1])\n",
    "\tend\n",
    "\treturn dim\n",
    "end"
   ]
  },
  {
   "cell_type": "code",
   "execution_count": 11,
   "id": "4355eda4",
   "metadata": {},
   "outputs": [
    {
     "name": "stdout",
     "output_type": "stream",
     "text": [
      "  61.895 ns (1 allocation: 96 bytes)\n"
     ]
    },
    {
     "data": {
      "text/plain": [
       "2"
      ]
     },
     "execution_count": 11,
     "metadata": {},
     "output_type": "execute_result"
    }
   ],
   "source": [
    "@btime checkStruct(square)"
   ]
  },
  {
   "cell_type": "code",
   "execution_count": null,
   "id": "99798e20",
   "metadata": {},
   "outputs": [],
   "source": []
  }
 ],
 "metadata": {
  "kernelspec": {
   "display_name": "Julia 1.6.5",
   "language": "julia",
   "name": "julia-1.6"
  },
  "language_info": {
   "file_extension": ".jl",
   "mimetype": "application/julia",
   "name": "julia",
   "version": "1.6.5"
  }
 },
 "nbformat": 4,
 "nbformat_minor": 5
}
