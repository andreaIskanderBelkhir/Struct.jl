{
 "cells": [
  {
   "cell_type": "code",
   "execution_count": 1,
   "id": "e9e0dd5e",
   "metadata": {},
   "outputs": [
    {
     "data": {
      "text/plain": [
       "LinearAlgebraicRepresentation"
      ]
     },
     "execution_count": 1,
     "metadata": {},
     "output_type": "execute_result"
    }
   ],
   "source": [
    "using BenchmarkTools\n",
    "using LinearAlgebra\n",
    "using LinearAlgebraicRepresentation\n",
    "Lar = LinearAlgebraicRepresentation"
   ]
  },
  {
   "cell_type": "markdown",
   "id": "94e3dd77",
   "metadata": {},
   "source": [
    "# EmbededTraversal(cloned::struct,obj::struct,n::int,suffix::string)"
   ]
  },
  {
   "cell_type": "markdown",
   "id": "c1318532",
   "metadata": {},
   "source": [
    "return the cloned obj of struct type who consist in a struct with the same body as the struct obj passed as arg.every element of the body is visited and copied in the struct cloned using local variable to support, the element in the body can have diffent type :tuple,array or other struct"
   ]
  },
  {
   "cell_type": "code",
   "execution_count": 2,
   "id": "cfde4e80",
   "metadata": {},
   "outputs": [
    {
     "data": {
      "text/plain": [
       "([0.0 0.0 1.0 1.0; 0.0 1.0 0.0 1.0], [[1, 2, 3, 4]])"
      ]
     },
     "execution_count": 2,
     "metadata": {},
     "output_type": "execute_result"
    }
   ],
   "source": [
    "square = Lar.cuboid([1,1])"
   ]
  },
  {
   "cell_type": "code",
   "execution_count": 3,
   "id": "3523c223",
   "metadata": {},
   "outputs": [
    {
     "data": {
      "text/plain": [
       "([-0.5 -0.5 0.5 0.5; -0.5 0.5 -0.5 0.5], [[1, 2, 3, 4]])"
      ]
     },
     "execution_count": 3,
     "metadata": {},
     "output_type": "execute_result"
    }
   ],
   "source": [
    "table = Lar.apply(Lar.t(-0.5,-0.5),square)"
   ]
  },
  {
   "cell_type": "code",
   "execution_count": 4,
   "id": "8b857fd1",
   "metadata": {},
   "outputs": [
    {
     "data": {
      "text/plain": [
       "LinearAlgebraicRepresentation.Struct(Any[([-0.5 -0.5 0.5 0.5; -0.5 0.5 -0.5 0.5], [[1, 2, 3, 4]]), [6.123233995736766e-17 -1.0 0.0; 1.0 6.123233995736766e-17 0.0; 0.0 0.0 1.0], ([-0.5 -0.5 0.5 0.5; -0.5 0.5 -0.5 0.5], [[1, 2, 3, 4]]), [6.123233995736766e-17 -1.0 0.0; 1.0 6.123233995736766e-17 0.0; 0.0 0.0 1.0]], [[-0.5; -0.5], [0.5; 0.5]], \"17112185399397030494\", 2, \"feature\")"
      ]
     },
     "execution_count": 4,
     "metadata": {},
     "output_type": "execute_result"
    }
   ],
   "source": [
    "structure = Lar.Struct([repeat([table,Lar.r(pi/2)],outer=2)...])"
   ]
  },
  {
   "cell_type": "code",
   "execution_count": 6,
   "id": "85f4adf6",
   "metadata": {},
   "outputs": [
    {
     "data": {
      "text/plain": [
       "embedTraversal (generic function with 1 method)"
      ]
     },
     "execution_count": 6,
     "metadata": {},
     "output_type": "execute_result"
    }
   ],
   "source": [
    "function embedTraversal(cloned::Lar.Struct,obj::Lar.Struct,n::Int,suffix::String)\n",
    "\tfor i=1:length(obj.body)\n",
    "\t\tif isa(obj.body[i],Matrix)\n",
    "\t\t\tmat = obj.body[i]\n",
    "\t\t\td,d = size(mat)\n",
    "\t\t\tnewMat = Matrix{Float64}(LinearAlgebra.I, d+n, d+n)\n",
    "\t\t\tfor h in range(1, length=d)\n",
    "\t\t\t\tfor k in range(1, length=d)\n",
    "\t\t\t\t\tnewMat[h,k]=mat[h,k]\n",
    "\t\t\t\tend\n",
    "\t\t\tend\n",
    "\t\t\tpush!(cloned.body,[newMat])\n",
    "\t\telseif (isa(obj.body[i],Tuple) ||isa(obj.body[i],Array))&& length(obj.body[i])==3\n",
    "\t\t\tV,FV,EV = deepcopy(obj.body[i])\n",
    "\t\t\tdimadd = n\n",
    "\t\t\tncols = size(V,2)\n",
    "\t\t\tnmat = zeros(dimadd,ncols)\n",
    "\t\t\tV = [V;zeros(dimadd,ncols)]\n",
    "\t\t\tpush!(cloned.body,[(V,FV,EV)])\n",
    "\t\telseif  (isa(obj.body[i],Tuple) ||isa(obj.body[i],Array))&& length(obj.body[i])==2\n",
    "\t\t\tV,EV = deepcopy(obj.body[i])\n",
    "\t\t\tdimadd = n\n",
    "\t\t\tncols = size(V,2)\n",
    "\t\t\tnmat = zeros(dimadd,ncols)\n",
    "\t\t\tV = [V;zeros(dimadd,ncols)]\n",
    "\t\t\tpush!(cloned.body,[(V,EV)])\n",
    "\t\telseif isa(obj.body[i],Lar.Struct)\n",
    "\t\t\tnewObj = Struct()\n",
    "\t\t\tnewObj.box = [ [obj.body[i].box[1];zeros(dimadd)],\n",
    "\t\t\t\t\t\t\t[obj.body[i].box[2];zeros(dimadd)] ]\n",
    "\t\t\tnewObj.category = (obj.body[i]).category\n",
    "\t\t\tpush!(cloned.body,[embedTraversal(newObj,obj.body[i],obj.dim+n,suffix)])\n",
    "\t\tend\n",
    "\tend\n",
    "\treturn cloned\n",
    "end"
   ]
  },
  {
   "cell_type": "code",
   "execution_count": 7,
   "id": "613905b5",
   "metadata": {},
   "outputs": [
    {
     "name": "stdout",
     "output_type": "stream",
     "text": [
      "  21.600 μs (98 allocations: 5.86 KiB)\n"
     ]
    },
    {
     "data": {
      "text/plain": [
       "LinearAlgebraicRepresentation.Struct(Any[([-0.5 -0.5 0.5 0.5; -0.5 0.5 -0.5 0.5], [[1, 2, 3, 4]]), [6.123233995736766e-17 -1.0 0.0; 1.0 6.123233995736766e-17 0.0; 0.0 0.0 1.0], ([-0.5 -0.5 0.5 0.5; -0.5 0.5 -0.5 0.5], [[1, 2, 3, 4]]), [6.123233995736766e-17 -1.0 0.0; 1.0 6.123233995736766e-17 0.0; 0.0 0.0 1.0], [([-0.5 -0.5 0.5 0.5; -0.5 0.5 -0.5 0.5; 0.0 0.0 0.0 0.0], [[1, 2, 3, 4]])], [[6.123233995736766e-17 -1.0 0.0 0.0; 1.0 6.123233995736766e-17 0.0 0.0; 0.0 0.0 1.0 0.0; 0.0 0.0 0.0 1.0]], [([-0.5 -0.5 0.5 0.5; -0.5 0.5 -0.5 0.5; 0.0 0.0 0.0 0.0], [[1, 2, 3, 4]])], [[6.123233995736766e-17 -1.0 0.0 0.0; 1.0 6.123233995736766e-17 0.0 0.0; 0.0 0.0 1.0 0.0; 0.0 0.0 0.0 1.0]]], [[-0.5; -0.5], [0.5; 0.5]], \"16844176188735256604\", 2, \"feature\")"
      ]
     },
     "execution_count": 7,
     "metadata": {},
     "output_type": "execute_result"
    }
   ],
   "source": [
    "@btime embedTraversal(Lar.clone(structure),structure,1,\"New\")"
   ]
  },
  {
   "cell_type": "code",
   "execution_count": 8,
   "id": "de6448c0",
   "metadata": {},
   "outputs": [
    {
     "data": {
      "text/plain": [
       "BenchmarkTools.Trial: 10000 samples with 1 evaluation.\n",
       " Range \u001b[90m(\u001b[39m\u001b[36m\u001b[1mmin\u001b[22m\u001b[39m … \u001b[35mmax\u001b[39m\u001b[90m):  \u001b[39m\u001b[36m\u001b[1m21.600 μs\u001b[22m\u001b[39m … \u001b[35m 5.368 ms\u001b[39m  \u001b[90m┊\u001b[39m GC \u001b[90m(\u001b[39mmin … max\u001b[90m): \u001b[39m0.00% … 98.20%\n",
       " Time  \u001b[90m(\u001b[39m\u001b[34m\u001b[1mmedian\u001b[22m\u001b[39m\u001b[90m):     \u001b[39m\u001b[34m\u001b[1m23.000 μs              \u001b[22m\u001b[39m\u001b[90m┊\u001b[39m GC \u001b[90m(\u001b[39mmedian\u001b[90m):    \u001b[39m0.00%\n",
       " Time  \u001b[90m(\u001b[39m\u001b[32m\u001b[1mmean\u001b[22m\u001b[39m ± \u001b[32mσ\u001b[39m\u001b[90m):   \u001b[39m\u001b[32m\u001b[1m26.800 μs\u001b[22m\u001b[39m ± \u001b[32m54.399 μs\u001b[39m  \u001b[90m┊\u001b[39m GC \u001b[90m(\u001b[39mmean ± σ\u001b[90m):  \u001b[39m1.97% ±  0.98%\n",
       "\n",
       "  \u001b[39m▇\u001b[39m█\u001b[34m▅\u001b[39m\u001b[39m▆\u001b[39m▄\u001b[39m▄\u001b[39m▄\u001b[32m▄\u001b[39m\u001b[39m▃\u001b[39m▂\u001b[39m▃\u001b[39m▃\u001b[39m▂\u001b[39m▂\u001b[39m▁\u001b[39m▁\u001b[39m \u001b[39m \u001b[39m \u001b[39m \u001b[39m \u001b[39m \u001b[39m \u001b[39m \u001b[39m \u001b[39m \u001b[39m \u001b[39m \u001b[39m \u001b[39m \u001b[39m \u001b[39m \u001b[39m \u001b[39m \u001b[39m \u001b[39m \u001b[39m \u001b[39m \u001b[39m \u001b[39m \u001b[39m \u001b[39m \u001b[39m \u001b[39m \u001b[39m \u001b[39m \u001b[39m \u001b[39m \u001b[39m \u001b[39m \u001b[39m \u001b[39m \u001b[39m \u001b[39m \u001b[39m \u001b[39m \u001b[39m \u001b[39m \u001b[39m \u001b[39m \u001b[39m▂\n",
       "  \u001b[39m█\u001b[39m█\u001b[34m█\u001b[39m\u001b[39m█\u001b[39m█\u001b[39m█\u001b[39m█\u001b[32m█\u001b[39m\u001b[39m█\u001b[39m█\u001b[39m█\u001b[39m█\u001b[39m█\u001b[39m█\u001b[39m█\u001b[39m█\u001b[39m█\u001b[39m█\u001b[39m█\u001b[39m█\u001b[39m▇\u001b[39m▆\u001b[39m▇\u001b[39m▇\u001b[39m▇\u001b[39m▇\u001b[39m▆\u001b[39m▇\u001b[39m▆\u001b[39m▆\u001b[39m▇\u001b[39m▆\u001b[39m▆\u001b[39m▆\u001b[39m▅\u001b[39m▆\u001b[39m▆\u001b[39m▅\u001b[39m▆\u001b[39m▆\u001b[39m▆\u001b[39m▅\u001b[39m▅\u001b[39m▆\u001b[39m▆\u001b[39m▅\u001b[39m▅\u001b[39m▅\u001b[39m▅\u001b[39m▆\u001b[39m▆\u001b[39m▅\u001b[39m▅\u001b[39m▅\u001b[39m▃\u001b[39m▅\u001b[39m▄\u001b[39m▅\u001b[39m▅\u001b[39m \u001b[39m█\n",
       "  21.6 μs\u001b[90m      \u001b[39m\u001b[90mHistogram: \u001b[39m\u001b[90m\u001b[1mlog(\u001b[22m\u001b[39m\u001b[90mfrequency\u001b[39m\u001b[90m\u001b[1m)\u001b[22m\u001b[39m\u001b[90m by time\u001b[39m      67.4 μs \u001b[0m\u001b[1m<\u001b[22m\n",
       "\n",
       " Memory estimate\u001b[90m: \u001b[39m\u001b[33m5.86 KiB\u001b[39m, allocs estimate\u001b[90m: \u001b[39m\u001b[33m98\u001b[39m."
      ]
     },
     "execution_count": 8,
     "metadata": {},
     "output_type": "execute_result"
    }
   ],
   "source": [
    "@benchmark embedTraversal(Lar.clone(structure),structure,1,\"New\")"
   ]
  },
  {
   "cell_type": "markdown",
   "id": "0bcbaeab",
   "metadata": {},
   "source": [
    "# Improvment and changes"
   ]
  },
  {
   "cell_type": "code",
   "execution_count": 5,
   "id": "79b23901",
   "metadata": {},
   "outputs": [
    {
     "data": {
      "text/plain": [
       "embedTraversal (generic function with 1 method)"
      ]
     },
     "execution_count": 5,
     "metadata": {},
     "output_type": "execute_result"
    }
   ],
   "source": [
    "@inline function embedTraversal(cloned::Lar.Struct,obj::Lar.Struct,n::Int,suffix::String)\n",
    "\tobjBody = obj.body\n",
    "\tfor i=1:length(objBody)\n",
    "\t\tif isa(objBody[i],Matrix)\n",
    "\t\t\tnewMat = traversalMatrix(objBody[i],n)\n",
    "\t\t\tpush!(cloned.body,[newMat])\n",
    "\t\telseif (isa(objBody[i],Tuple) || isa(objBody[i],Array))\n",
    "\t\t\tif (length(objBody[i])==3)\n",
    "\t\t\t\tV,FV,EV = deepcopy(objBody[i])\n",
    "\t\t\t\tV = traversalTupleOrArray(n,V)\n",
    "\t\t\t\tpush!(cloned.body,[(V,FV,EV)])\n",
    "\t\t\telseif (length(objBody[i])==2)\n",
    "\t\t\t\tV,EV = deepcopy(objBody[i])\n",
    "\t\t\t\tV = traversalTupleOrArray(n,V)\n",
    "\t\t\t\tpush!(cloned.body,[(V,EV)])\n",
    "\t\t\tend\n",
    "\t\telseif isa(objBody[i],Struct)\n",
    "\t\t\tnewObj = traversalStruct(objBody)\n",
    "\t\t\tpush!(cloned.body,[embedTraversal(newObj,objBody[i],obj.dim+n,suffix)])\n",
    "\t\tend\n",
    "\tend\n",
    "\treturn cloned\n",
    "end"
   ]
  },
  {
   "cell_type": "code",
   "execution_count": 7,
   "id": "f90537bf",
   "metadata": {},
   "outputs": [
    {
     "data": {
      "text/plain": [
       "traversalMatrix (generic function with 1 method)"
      ]
     },
     "execution_count": 7,
     "metadata": {},
     "output_type": "execute_result"
    }
   ],
   "source": [
    "@inline function traversalMatrix(objBody,n)\n",
    "\tmat = objBody\n",
    "\td,d = size(mat)\n",
    "\tnewMat = Matrix{Float64}(LinearAlgebra.I, d+n, d+n)\n",
    "\t  for h in range(1, length=d)\n",
    "\t\t for k in range(1, length=d)\n",
    "\t\t\tnewMat[h,k]=mat[h,k]\n",
    "\t\tend\n",
    "\tend\n",
    "\treturn newMat\n",
    "end"
   ]
  },
  {
   "cell_type": "code",
   "execution_count": 5,
   "id": "105d5eaa",
   "metadata": {},
   "outputs": [
    {
     "data": {
      "text/plain": [
       "traversalTupleOrArray (generic function with 1 method)"
      ]
     },
     "execution_count": 5,
     "metadata": {},
     "output_type": "execute_result"
    }
   ],
   "source": [
    "@inline function traversalTupleOrArray(n,V)\n",
    "\tdimadd = n\n",
    "\tncols = size(V,2)\n",
    "\tnmat = zeros(dimadd,ncols)\n",
    "\tV = [V;nmat]\n",
    "\treturn V\n",
    "end"
   ]
  },
  {
   "cell_type": "code",
   "execution_count": 6,
   "id": "1e41c6de",
   "metadata": {},
   "outputs": [
    {
     "data": {
      "text/plain": [
       "traversalStruct (generic function with 1 method)"
      ]
     },
     "execution_count": 6,
     "metadata": {},
     "output_type": "execute_result"
    }
   ],
   "source": [
    "@inline function traversalStruct(objBody)\n",
    "\tnewObj = Struct()\n",
    "\tnewObj.box = [ [objBody[i].box[1];zeros(dimadd)],  [objBody[i].box[2];zeros(dimadd)] ]\n",
    "\tnewObj.category = (objBody[i]).category\n",
    "\treturn newObj\n",
    "end"
   ]
  },
  {
   "cell_type": "markdown",
   "id": "2992bfd7",
   "metadata": {},
   "source": [
    "the submission of the last notebook was bugged and did not save the benchmark of the funcion"
   ]
  },
  {
   "cell_type": "code",
   "execution_count": 9,
   "id": "7a834a73",
   "metadata": {},
   "outputs": [
    {
     "data": {
      "text/plain": [
       "BenchmarkTools.Trial: 10000 samples with 1 evaluation.\n",
       " Range \u001b[90m(\u001b[39m\u001b[36m\u001b[1mmin\u001b[22m\u001b[39m … \u001b[35mmax\u001b[39m\u001b[90m):  \u001b[39m\u001b[36m\u001b[1m10.900 μs\u001b[22m\u001b[39m … \u001b[35m 12.607 ms\u001b[39m  \u001b[90m┊\u001b[39m GC \u001b[90m(\u001b[39mmin … max\u001b[90m): \u001b[39m0.00% … 98.72%\n",
       " Time  \u001b[90m(\u001b[39m\u001b[34m\u001b[1mmedian\u001b[22m\u001b[39m\u001b[90m):     \u001b[39m\u001b[34m\u001b[1m18.700 μs               \u001b[22m\u001b[39m\u001b[90m┊\u001b[39m GC \u001b[90m(\u001b[39mmedian\u001b[90m):    \u001b[39m0.00%\n",
       " Time  \u001b[90m(\u001b[39m\u001b[32m\u001b[1mmean\u001b[22m\u001b[39m ± \u001b[32mσ\u001b[39m\u001b[90m):   \u001b[39m\u001b[32m\u001b[1m25.607 μs\u001b[22m\u001b[39m ± \u001b[32m126.515 μs\u001b[39m  \u001b[90m┊\u001b[39m GC \u001b[90m(\u001b[39mmean ± σ\u001b[90m):  \u001b[39m4.86% ±  0.99%\n",
       "\n",
       "  \u001b[39m \u001b[39m \u001b[39m▂\u001b[39m \u001b[39m▄\u001b[39m█\u001b[39m█\u001b[34m▄\u001b[39m\u001b[39m▅\u001b[39m▆\u001b[39m▄\u001b[39m▃\u001b[39m▃\u001b[32m▄\u001b[39m\u001b[39m▅\u001b[39m▃\u001b[39m▂\u001b[39m▂\u001b[39m \u001b[39m▃\u001b[39m▂\u001b[39m▁\u001b[39m▂\u001b[39m▂\u001b[39m▁\u001b[39m▂\u001b[39m▁\u001b[39m▁\u001b[39m \u001b[39m▁\u001b[39m▁\u001b[39m▁\u001b[39m▁\u001b[39m \u001b[39m▁\u001b[39m▁\u001b[39m \u001b[39m \u001b[39m \u001b[39m \u001b[39m \u001b[39m \u001b[39m \u001b[39m \u001b[39m \u001b[39m \u001b[39m \u001b[39m \u001b[39m \u001b[39m \u001b[39m \u001b[39m \u001b[39m \u001b[39m \u001b[39m \u001b[39m \u001b[39m \u001b[39m \u001b[39m \u001b[39m \u001b[39m \u001b[39m▂\n",
       "  \u001b[39m█\u001b[39m▄\u001b[39m█\u001b[39m█\u001b[39m█\u001b[39m█\u001b[39m█\u001b[34m█\u001b[39m\u001b[39m█\u001b[39m█\u001b[39m█\u001b[39m█\u001b[39m█\u001b[32m█\u001b[39m\u001b[39m█\u001b[39m█\u001b[39m█\u001b[39m█\u001b[39m█\u001b[39m█\u001b[39m█\u001b[39m█\u001b[39m█\u001b[39m█\u001b[39m█\u001b[39m█\u001b[39m█\u001b[39m█\u001b[39m█\u001b[39m█\u001b[39m█\u001b[39m█\u001b[39m█\u001b[39m█\u001b[39m█\u001b[39m█\u001b[39m█\u001b[39m▇\u001b[39m▇\u001b[39m▆\u001b[39m▆\u001b[39m▆\u001b[39m▇\u001b[39m▅\u001b[39m▅\u001b[39m▆\u001b[39m▅\u001b[39m▆\u001b[39m▅\u001b[39m▅\u001b[39m▆\u001b[39m▄\u001b[39m▅\u001b[39m▅\u001b[39m▅\u001b[39m▅\u001b[39m▅\u001b[39m▄\u001b[39m▄\u001b[39m▅\u001b[39m \u001b[39m█\n",
       "  10.9 μs\u001b[90m       \u001b[39m\u001b[90mHistogram: \u001b[39m\u001b[90m\u001b[1mlog(\u001b[22m\u001b[39m\u001b[90mfrequency\u001b[39m\u001b[90m\u001b[1m)\u001b[22m\u001b[39m\u001b[90m by time\u001b[39m      78.9 μs \u001b[0m\u001b[1m<\u001b[22m\n",
       "\n",
       " Memory estimate\u001b[90m: \u001b[39m\u001b[33m4.67 KiB\u001b[39m, allocs estimate\u001b[90m: \u001b[39m\u001b[33m48\u001b[39m."
      ]
     },
     "execution_count": 9,
     "metadata": {},
     "output_type": "execute_result"
    }
   ],
   "source": [
    "@benchmark embedTraversal(Lar.clone(structure),structure,1,\"New\")"
   ]
  },
  {
   "cell_type": "markdown",
   "id": "e661b339",
   "metadata": {},
   "source": [
    "# Paralelization"
   ]
  },
  {
   "cell_type": "code",
   "execution_count": 7,
   "id": "b2b8d597",
   "metadata": {},
   "outputs": [
    {
     "data": {
      "text/plain": [
       "traversalMatrix (generic function with 1 method)"
      ]
     },
     "execution_count": 7,
     "metadata": {},
     "output_type": "execute_result"
    }
   ],
   "source": [
    "@inline function traversalMatrix(objBody,n)\n",
    "\tmat = objBody\n",
    "\td,d = size(mat)\n",
    "\tnewMat = Matrix{Float64}(LinearAlgebra.I, d+n, d+n)\n",
    "\t  @inbounds for h in range(1, length=d)\n",
    "\t\t@inbounds for k in range(1, length=d)\n",
    "\t\t\tnewMat[h,k]=mat[h,k]\n",
    "\t\tend\n",
    "\tend\n",
    "\treturn newMat\n",
    "end"
   ]
  },
  {
   "cell_type": "code",
   "execution_count": 8,
   "id": "2e0a7d67",
   "metadata": {},
   "outputs": [
    {
     "data": {
      "text/plain": [
       "embedTraversal (generic function with 1 method)"
      ]
     },
     "execution_count": 8,
     "metadata": {},
     "output_type": "execute_result"
    }
   ],
   "source": [
    "@inline function embedTraversal(cloned::Lar.Struct,obj::Lar.Struct,n::Int,suffix::String)\n",
    "\tobjBody = obj.body\n",
    "\t Threads.@spawn for i=1:length(objBody)\n",
    "\t\tif isa(objBody[i],Matrix)\n",
    "\t\t\tnewMat = traversalMatrix(objBody[i],n)\n",
    "\t\t\tpush!(cloned.body,[newMat])\n",
    "\t\telseif (isa(objBody[i],Tuple) || isa(objBody[i],Array))\n",
    "\t\t\tif (length(objBody[i])==3)\n",
    "\t\t\t\tV,FV,EV = deepcopy(objBody[i])\n",
    "\t\t\t\tV = traversalTupleOrArray(n,V)\n",
    "\t\t\t\tpush!(cloned.body,[(V,FV,EV)])\n",
    "\t\t\telseif (length(objBody[i])==2)\n",
    "\t\t\t\tV,EV = deepcopy(objBody[i])\n",
    "\t\t\t\tV = traversalTupleOrArray(n,V)\n",
    "\t\t\t\tpush!(cloned.body,[(V,EV)])\n",
    "\t\t\tend\n",
    "\t\telseif isa(objBody[i],Struct)\n",
    "\t\t\tnewObj = traversalStruct(objBody)\n",
    "\t\t\tpush!(cloned.body,[embedTraversal(newObj,objBody[i],obj.dim+n,suffix)])\n",
    "\t\tend\n",
    "\tend\n",
    "\treturn cloned\n",
    "end"
   ]
  },
  {
   "cell_type": "code",
   "execution_count": 9,
   "id": "65dcfb04",
   "metadata": {},
   "outputs": [
    {
     "data": {
      "text/plain": [
       "BenchmarkTools.Trial: 10000 samples with 7 evaluations.\n",
       " Range \u001b[90m(\u001b[39m\u001b[36m\u001b[1mmin\u001b[22m\u001b[39m … \u001b[35mmax\u001b[39m\u001b[90m):  \u001b[39m\u001b[36m\u001b[1m 3.514 μs\u001b[22m\u001b[39m … \u001b[35m  6.724 ms\u001b[39m  \u001b[90m┊\u001b[39m GC \u001b[90m(\u001b[39mmin … max\u001b[90m): \u001b[39m 0.00% … 99.29%\n",
       " Time  \u001b[90m(\u001b[39m\u001b[34m\u001b[1mmedian\u001b[22m\u001b[39m\u001b[90m):     \u001b[39m\u001b[34m\u001b[1m14.671 μs               \u001b[22m\u001b[39m\u001b[90m┊\u001b[39m GC \u001b[90m(\u001b[39mmedian\u001b[90m):    \u001b[39m 0.00%\n",
       " Time  \u001b[90m(\u001b[39m\u001b[32m\u001b[1mmean\u001b[22m\u001b[39m ± \u001b[32mσ\u001b[39m\u001b[90m):   \u001b[39m\u001b[32m\u001b[1m16.643 μs\u001b[22m\u001b[39m ± \u001b[32m101.518 μs\u001b[39m  \u001b[90m┊\u001b[39m GC \u001b[90m(\u001b[39mmean ± σ\u001b[90m):  \u001b[39m10.43% ±  1.72%\n",
       "\n",
       "  \u001b[39m \u001b[39m \u001b[39m \u001b[39m \u001b[39m \u001b[39m \u001b[39m█\u001b[39m▁\u001b[39m \u001b[39m \u001b[39m \u001b[39m \u001b[39m \u001b[39m \u001b[39m \u001b[39m \u001b[39m \u001b[39m \u001b[39m \u001b[39m▁\u001b[39m▂\u001b[39m▆\u001b[39m▄\u001b[39m▄\u001b[34m▃\u001b[39m\u001b[39m▄\u001b[39m▃\u001b[39m▁\u001b[32m▁\u001b[39m\u001b[39m \u001b[39m \u001b[39m \u001b[39m \u001b[39m \u001b[39m \u001b[39m \u001b[39m \u001b[39m \u001b[39m \u001b[39m \u001b[39m \u001b[39m \u001b[39m \u001b[39m \u001b[39m \u001b[39m \u001b[39m \u001b[39m \u001b[39m \u001b[39m \u001b[39m \u001b[39m \u001b[39m \u001b[39m \u001b[39m \u001b[39m \u001b[39m \u001b[39m \u001b[39m \u001b[39m \u001b[39m \u001b[39m \n",
       "  \u001b[39m▁\u001b[39m▂\u001b[39m▂\u001b[39m▂\u001b[39m▃\u001b[39m▅\u001b[39m█\u001b[39m█\u001b[39m▇\u001b[39m█\u001b[39m▆\u001b[39m▅\u001b[39m▅\u001b[39m▄\u001b[39m▄\u001b[39m▄\u001b[39m▄\u001b[39m▄\u001b[39m▅\u001b[39m█\u001b[39m█\u001b[39m█\u001b[39m█\u001b[39m█\u001b[34m█\u001b[39m\u001b[39m█\u001b[39m█\u001b[39m█\u001b[32m█\u001b[39m\u001b[39m█\u001b[39m▇\u001b[39m▇\u001b[39m▇\u001b[39m▅\u001b[39m▆\u001b[39m▆\u001b[39m▅\u001b[39m▅\u001b[39m▄\u001b[39m▄\u001b[39m▃\u001b[39m▄\u001b[39m▄\u001b[39m▃\u001b[39m▃\u001b[39m▃\u001b[39m▃\u001b[39m▂\u001b[39m▂\u001b[39m▂\u001b[39m▂\u001b[39m▂\u001b[39m▂\u001b[39m▁\u001b[39m▂\u001b[39m▂\u001b[39m▁\u001b[39m▁\u001b[39m▁\u001b[39m▁\u001b[39m \u001b[39m▄\n",
       "  3.51 μs\u001b[90m         Histogram: frequency by time\u001b[39m         31.6 μs \u001b[0m\u001b[1m<\u001b[22m\n",
       "\n",
       " Memory estimate\u001b[90m: \u001b[39m\u001b[33m1.95 KiB\u001b[39m, allocs estimate\u001b[90m: \u001b[39m\u001b[33m20\u001b[39m."
      ]
     },
     "execution_count": 9,
     "metadata": {},
     "output_type": "execute_result"
    }
   ],
   "source": [
    "@benchmark embedTraversal(Lar.clone(structure),structure,1,\"New\")"
   ]
  },
  {
   "cell_type": "code",
   "execution_count": null,
   "id": "14ac1a4a",
   "metadata": {},
   "outputs": [],
   "source": []
  }
 ],
 "metadata": {
  "kernelspec": {
   "display_name": "Julia 1.6.5",
   "language": "julia",
   "name": "julia-1.6"
  },
  "language_info": {
   "file_extension": ".jl",
   "mimetype": "application/julia",
   "name": "julia",
   "version": "1.6.5"
  }
 },
 "nbformat": 4,
 "nbformat_minor": 5
}
