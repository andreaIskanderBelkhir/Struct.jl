{
 "cells": [
  {
   "cell_type": "code",
   "execution_count": 1,
   "id": "e9e0dd5e",
   "metadata": {},
   "outputs": [
    {
     "data": {
      "text/plain": [
       "LinearAlgebraicRepresentation"
      ]
     },
     "execution_count": 1,
     "metadata": {},
     "output_type": "execute_result"
    }
   ],
   "source": [
    "using BenchmarkTools\n",
    "using LinearAlgebra\n",
    "using LinearAlgebraicRepresentation\n",
    "Lar = LinearAlgebraicRepresentation"
   ]
  },
  {
   "cell_type": "markdown",
   "id": "94e3dd77",
   "metadata": {},
   "source": [
    "# EmbededTraversal(cloned::struct,obj::struct,n::int,suffix::string)"
   ]
  },
  {
   "cell_type": "markdown",
   "id": "c1318532",
   "metadata": {},
   "source": [
    "return the cloned obj of struct type who consist in a struct with the same body as the struct obj passed as arg.every element of the body is visited and copied in the struct cloned using local variable to support, the element in the body can have diffent type :tuple,array or other struct"
   ]
  },
  {
   "cell_type": "code",
   "execution_count": 2,
   "id": "cfde4e80",
   "metadata": {},
   "outputs": [
    {
     "data": {
      "text/plain": [
       "([0.0 0.0 1.0 1.0; 0.0 1.0 0.0 1.0], [[1, 2, 3, 4]])"
      ]
     },
     "execution_count": 2,
     "metadata": {},
     "output_type": "execute_result"
    }
   ],
   "source": [
    "square = Lar.cuboid([1,1])"
   ]
  },
  {
   "cell_type": "code",
   "execution_count": 3,
   "id": "9c6fa2f2",
   "metadata": {},
   "outputs": [
    {
     "data": {
      "text/plain": [
       "LinearAlgebraicRepresentation.Struct([([0.0 0.0 1.0 1.0; 0.0 1.0 0.0 1.0], [[1, 2, 3, 4]])], [[0.0; 0.0], [1.0; 1.0]], \"8447826383766830820\", 2, \"feature\")"
      ]
     },
     "execution_count": 3,
     "metadata": {},
     "output_type": "execute_result"
    }
   ],
   "source": [
    "x = Lar.Struct([square])"
   ]
  },
  {
   "cell_type": "code",
   "execution_count": 4,
   "id": "3523c223",
   "metadata": {},
   "outputs": [
    {
     "data": {
      "text/plain": [
       "([-0.5 -0.5 0.5 0.5; -0.5 0.5 -0.5 0.5], [[1, 2, 3, 4]])"
      ]
     },
     "execution_count": 4,
     "metadata": {},
     "output_type": "execute_result"
    }
   ],
   "source": [
    "table = Lar.apply(Lar.t(-0.5,-0.5),square)"
   ]
  },
  {
   "cell_type": "code",
   "execution_count": 5,
   "id": "8b857fd1",
   "metadata": {},
   "outputs": [
    {
     "data": {
      "text/plain": [
       "LinearAlgebraicRepresentation.Struct(Any[([-0.5 -0.5 0.5 0.5; -0.5 0.5 -0.5 0.5], [[1, 2, 3, 4]]), [6.123233995736766e-17 -1.0 0.0; 1.0 6.123233995736766e-17 0.0; 0.0 0.0 1.0], ([-0.5 -0.5 0.5 0.5; -0.5 0.5 -0.5 0.5], [[1, 2, 3, 4]]), [6.123233995736766e-17 -1.0 0.0; 1.0 6.123233995736766e-17 0.0; 0.0 0.0 1.0]], [[-0.5; -0.5], [0.5; 0.5]], \"16990717297481722407\", 2, \"feature\")"
      ]
     },
     "execution_count": 5,
     "metadata": {},
     "output_type": "execute_result"
    }
   ],
   "source": [
    "structure = Lar.Struct([repeat([table,Lar.r(pi/2)],outer=2)...])"
   ]
  },
  {
   "cell_type": "code",
   "execution_count": 6,
   "id": "85f4adf6",
   "metadata": {},
   "outputs": [
    {
     "data": {
      "text/plain": [
       "embedTraversal (generic function with 1 method)"
      ]
     },
     "execution_count": 6,
     "metadata": {},
     "output_type": "execute_result"
    }
   ],
   "source": [
    "\n",
    "\n",
    "function embedTraversal(cloned::Lar.Struct,obj::Lar.Struct,n::Int,suffix::String)\n",
    "\tfor i=1:length(obj.body)\n",
    "\t\tif isa(obj.body[i],Matrix)\n",
    "\t\t\tmat = obj.body[i]\n",
    "\t\t\td,d = size(mat)\n",
    "\t\t\tnewMat = Matrix{Float64}(LinearAlgebra.I, d+n, d+n)\n",
    "\t\t\tfor h in range(1, length=d)\n",
    "\t\t\t\tfor k in range(1, length=d)\n",
    "\t\t\t\t\tnewMat[h,k]=mat[h,k]\n",
    "\t\t\t\tend\n",
    "\t\t\tend\n",
    "\t\t\tpush!(cloned.body,[newMat])\n",
    "\t\telseif (isa(obj.body[i],Tuple) ||isa(obj.body[i],Array))&& length(obj.body[i])==3\n",
    "\t\t\tV,FV,EV = deepcopy(obj.body[i])\n",
    "\t\t\tdimadd = n\n",
    "\t\t\tncols = size(V,2)\n",
    "\t\t\tnmat = zeros(dimadd,ncols)\n",
    "\t\t\tV = [V;zeros(dimadd,ncols)]\n",
    "\t\t\tpush!(cloned.body,[(V,FV,EV)])\n",
    "\t\telseif  (isa(obj.body[i],Tuple) ||isa(obj.body[i],Array))&& length(obj.body[i])==2\n",
    "\t\t\tV,EV = deepcopy(obj.body[i])\n",
    "\t\t\tdimadd = n\n",
    "\t\t\tncols = size(V,2)\n",
    "\t\t\tnmat = zeros(dimadd,ncols)\n",
    "\t\t\tV = [V;zeros(dimadd,ncols)]\n",
    "\t\t\tpush!(cloned.body,[(V,EV)])\n",
    "\t\telseif isa(obj.body[i],Lar.Struct)\n",
    "\t\t\tnewObj = Struct()\n",
    "\t\t\tnewObj.box = [ [obj.body[i].box[1];zeros(dimadd)],\n",
    "\t\t\t\t\t\t\t[obj.body[i].box[2];zeros(dimadd)] ]\n",
    "\t\t\tnewObj.category = (obj.body[i]).category\n",
    "\t\t\tpush!(cloned.body,[embedTraversal(newObj,obj.body[i],obj.dim+n,suffix)])\n",
    "\t\tend\n",
    "\tend\n",
    "\treturn cloned\n",
    "end\n",
    "\n"
   ]
  },
  {
   "cell_type": "code",
   "execution_count": 7,
   "id": "c0ff52da",
   "metadata": {},
   "outputs": [
    {
     "name": "stdout",
     "output_type": "stream",
     "text": [
      "  2.433 μs (25 allocations: 1.81 KiB)\n"
     ]
    },
    {
     "data": {
      "text/plain": [
       "LinearAlgebraicRepresentation.Struct(Any[[([0.0 0.0 1.0 1.0; 0.0 1.0 0.0 1.0; 0.0 0.0 0.0 0.0], [[1, 2, 3, 4]])]], Any, \"3805851539538212783\", Any, \"feature\")"
      ]
     },
     "execution_count": 7,
     "metadata": {},
     "output_type": "execute_result"
    }
   ],
   "source": [
    "@btime embedTraversal(Lar.Struct(),x,1,\"New\")"
   ]
  },
  {
   "cell_type": "code",
   "execution_count": 8,
   "id": "613905b5",
   "metadata": {},
   "outputs": [
    {
     "name": "stdout",
     "output_type": "stream",
     "text": [
      "  19.200 μs (87 allocations: 4.61 KiB)\n"
     ]
    },
    {
     "data": {
      "text/plain": [
       "LinearAlgebraicRepresentation.Struct(Any[[([-0.5 -0.5 0.5 0.5; -0.5 0.5 -0.5 0.5; 0.0 0.0 0.0 0.0], [[1, 2, 3, 4]])], [[6.123233995736766e-17 -1.0 0.0 0.0; 1.0 6.123233995736766e-17 0.0 0.0; 0.0 0.0 1.0 0.0; 0.0 0.0 0.0 1.0]], [([-0.5 -0.5 0.5 0.5; -0.5 0.5 -0.5 0.5; 0.0 0.0 0.0 0.0], [[1, 2, 3, 4]])], [[6.123233995736766e-17 -1.0 0.0 0.0; 1.0 6.123233995736766e-17 0.0 0.0; 0.0 0.0 1.0 0.0; 0.0 0.0 0.0 1.0]]], Any, \"4469424143845526420\", Any, \"feature\")"
      ]
     },
     "execution_count": 8,
     "metadata": {},
     "output_type": "execute_result"
    }
   ],
   "source": [
    "@btime embedTraversal(Lar.Struct(),structure,1,\"New\")"
   ]
  },
  {
   "cell_type": "code",
   "execution_count": null,
   "id": "de6448c0",
   "metadata": {},
   "outputs": [],
   "source": []
  }
 ],
 "metadata": {
  "kernelspec": {
   "display_name": "Julia 1.6.5",
   "language": "julia",
   "name": "julia-1.6"
  },
  "language_info": {
   "file_extension": ".jl",
   "mimetype": "application/julia",
   "name": "julia",
   "version": "1.6.5"
  }
 },
 "nbformat": 4,
 "nbformat_minor": 5
}
