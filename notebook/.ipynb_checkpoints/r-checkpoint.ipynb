{
 "cells": [
  {
   "cell_type": "markdown",
   "id": "53268a1b",
   "metadata": {},
   "source": [
    "#   Struct\n",
    "\n",
    "###  Andrea Iskander Belkhir id : 511089\n",
    "\n",
    "###  Beyza Özdemir id : 576145"
   ]
  },
  {
   "cell_type": "code",
   "execution_count": 1,
   "id": "2a14ac6d",
   "metadata": {},
   "outputs": [],
   "source": [
    "using BenchmarkTools\n",
    "using LinearAlgebra\n",
    "using StaticArrays"
   ]
  },
  {
   "cell_type": "markdown",
   "id": "de8443c0",
   "metadata": {},
   "source": [
    "# R(arg)"
   ]
  },
  {
   "cell_type": "markdown",
   "id": "d311fcbc",
   "metadata": {},
   "source": [
    "it generate (and return)a rotation matrix,this funcion permit a 2D rotation retuning a 3 Dimension matrix or 3D rotation returning 4Dimension matrix... this part of the code can be separated in at least 2 more funcion (for a better reading at least)1 for 2D rot and the other for 3D rot.\n",
    "the arg can be a singol parameter (an angol in radiant)or a 3 vector where we can use the norm(=sqr(dot_prod(arg,arg))) as the angle for the rotation and for the direction of the rotation the normalized value"
   ]
  },
  {
   "cell_type": "code",
   "execution_count": 2,
   "id": "e0db2d30",
   "metadata": {},
   "outputs": [
    {
     "data": {
      "text/plain": [
       "r (generic function with 1 method)"
      ]
     },
     "execution_count": 2,
     "metadata": {},
     "output_type": "execute_result"
    }
   ],
   "source": [
    "function r(args...)\n",
    "    args = collect(args)\n",
    "    n = length(args)\n",
    "    if n == 1 # rotation in 2D\n",
    "        angle = args[1]; COS = cos(angle); SIN = sin(angle)\n",
    "        mat = Matrix{Float64}(LinearAlgebra.I, 3, 3)\n",
    "        mat[1,1] = COS;    mat[1,2] = -SIN;\n",
    "        mat[2,1] = SIN;    mat[2,2] = COS;\n",
    "    end\n",
    "\n",
    "     if n == 3 # rotation in 3D\n",
    "        mat = Matrix{Float64}(LinearAlgebra.I, 4, 4)\n",
    "        angle = norm(args);\n",
    "        if norm(args) != 0.0\n",
    "\t\t\taxis = args #normalize(args)\n",
    "\t\t\tCOS = cos(angle); SIN= sin(angle)\n",
    "\t\t\tif axis[2]==axis[3]==0.0    # rotation about x\n",
    "\t\t\t\tmat[2,2] = COS;    mat[2,3] = -SIN;\n",
    "\t\t\t\tmat[3,2] = SIN;    mat[3,3] = COS;\n",
    "\t\t\telseif axis[1]==axis[3]==0.0   # rotation about y\n",
    "\t\t\t\tmat[1,1] = COS;    mat[1,3] = SIN;\n",
    "\t\t\t\tmat[3,1] = -SIN;    mat[3,3] = COS;\n",
    "\t\t\telseif axis[1]==axis[2]==0.0    # rotation about z\n",
    "\t\t\t\tmat[1,1] = COS;    mat[1,2] = -SIN;\n",
    "\t\t\t\tmat[2,1] = SIN;    mat[2,2] = COS;\n",
    "\t\t\telse\n",
    "\t\t\t\tI = Matrix{Float64}(LinearAlgebra.I, 3, 3); u = axis\n",
    "\t\t\t\tUx=[0 -u[3] u[2] ; u[3] 0 -u[1] ;  -u[2] u[1] 1]\n",
    "\t\t\t\tUU =[u[1]*u[1]    u[1]*u[2]   u[1]*u[3];\n",
    "\t\t\t\t\t u[2]*u[1]    u[2]*u[2]   u[2]*u[3];\n",
    "\t\t\t\t\t u[3]*u[1]    u[3]*u[2]   u[3]*u[3]]\n",
    "\t\t\t\tmat[1:3,1:3]=COS*I+SIN*Ux+(1.0-COS)*UU\n",
    "\t\t\tend\n",
    "\t\tend\n",
    "\tend\n",
    "\treturn mat\n",
    "end"
   ]
  },
  {
   "cell_type": "code",
   "execution_count": 3,
   "id": "c668b9d7",
   "metadata": {},
   "outputs": [
    {
     "name": "stdout",
     "output_type": "stream",
     "text": [
      "  86.889 ns (2 allocations: 256 bytes)\n"
     ]
    },
    {
     "data": {
      "text/plain": [
       "3×3 Matrix{Float64}:\n",
       " 1.0  -0.0  0.0\n",
       " 0.0   1.0  0.0\n",
       " 0.0   0.0  1.0"
      ]
     },
     "execution_count": 3,
     "metadata": {},
     "output_type": "execute_result"
    }
   ],
   "source": [
    "@btime r(0)"
   ]
  },
  {
   "cell_type": "code",
   "execution_count": 4,
   "id": "da830e17",
   "metadata": {},
   "outputs": [
    {
     "name": "stdout",
     "output_type": "stream",
     "text": [
      "  2.150 μs (12 allocations: 1.59 KiB)\n"
     ]
    },
    {
     "data": {
      "text/plain": [
       "4×4 Matrix{Float64}:\n",
       " 1.0      0.17353  2.14758  0.0\n",
       " 2.14758  1.0      0.17353  0.0\n",
       " 0.17353  2.14758  1.98703  0.0\n",
       " 0.0      0.0      0.0      1.0"
      ]
     },
     "execution_count": 4,
     "metadata": {},
     "output_type": "execute_result"
    }
   ],
   "source": [
    "@btime r(1,1,1)"
   ]
  },
  {
   "cell_type": "code",
   "execution_count": 5,
   "id": "2a9b4ee2",
   "metadata": {},
   "outputs": [
    {
     "data": {
      "text/plain": [
       "BenchmarkTools.Trial: 10000 samples with 10 evaluations.\n",
       " Range \u001b[90m(\u001b[39m\u001b[36m\u001b[1mmin\u001b[22m\u001b[39m … \u001b[35mmax\u001b[39m\u001b[90m):  \u001b[39m\u001b[36m\u001b[1m1.010 μs\u001b[22m\u001b[39m … \u001b[35m167.660 μs\u001b[39m  \u001b[90m┊\u001b[39m GC \u001b[90m(\u001b[39mmin … max\u001b[90m): \u001b[39m0.00% … 96.81%\n",
       " Time  \u001b[90m(\u001b[39m\u001b[34m\u001b[1mmedian\u001b[22m\u001b[39m\u001b[90m):     \u001b[39m\u001b[34m\u001b[1m1.090 μs               \u001b[22m\u001b[39m\u001b[90m┊\u001b[39m GC \u001b[90m(\u001b[39mmedian\u001b[90m):    \u001b[39m0.00%\n",
       " Time  \u001b[90m(\u001b[39m\u001b[32m\u001b[1mmean\u001b[22m\u001b[39m ± \u001b[32mσ\u001b[39m\u001b[90m):   \u001b[39m\u001b[32m\u001b[1m1.417 μs\u001b[22m\u001b[39m ± \u001b[32m  2.653 μs\u001b[39m  \u001b[90m┊\u001b[39m GC \u001b[90m(\u001b[39mmean ± σ\u001b[90m):  \u001b[39m3.10% ±  1.68%\n",
       "\n",
       "  \u001b[39m▆\u001b[39m█\u001b[34m▆\u001b[39m\u001b[39m▄\u001b[39m▁\u001b[39m \u001b[39m \u001b[39m \u001b[39m \u001b[39m▁\u001b[39m▁\u001b[32m \u001b[39m\u001b[39m \u001b[39m▂\u001b[39m▂\u001b[39m▂\u001b[39m▁\u001b[39m▂\u001b[39m▄\u001b[39m▄\u001b[39m▂\u001b[39m▃\u001b[39m▃\u001b[39m▃\u001b[39m▂\u001b[39m▁\u001b[39m \u001b[39m▂\u001b[39m▂\u001b[39m \u001b[39m \u001b[39m \u001b[39m \u001b[39m▁\u001b[39m▁\u001b[39m \u001b[39m \u001b[39m \u001b[39m \u001b[39m \u001b[39m \u001b[39m \u001b[39m \u001b[39m \u001b[39m \u001b[39m \u001b[39m \u001b[39m \u001b[39m \u001b[39m \u001b[39m \u001b[39m \u001b[39m \u001b[39m \u001b[39m \u001b[39m \u001b[39m \u001b[39m \u001b[39m \u001b[39m \u001b[39m▂\n",
       "  \u001b[39m█\u001b[39m█\u001b[34m█\u001b[39m\u001b[39m█\u001b[39m█\u001b[39m▇\u001b[39m▇\u001b[39m▇\u001b[39m█\u001b[39m█\u001b[39m█\u001b[32m▇\u001b[39m\u001b[39m█\u001b[39m█\u001b[39m█\u001b[39m█\u001b[39m█\u001b[39m█\u001b[39m█\u001b[39m█\u001b[39m█\u001b[39m█\u001b[39m█\u001b[39m█\u001b[39m█\u001b[39m█\u001b[39m█\u001b[39m█\u001b[39m█\u001b[39m█\u001b[39m█\u001b[39m█\u001b[39m█\u001b[39m█\u001b[39m█\u001b[39m█\u001b[39m█\u001b[39m█\u001b[39m▇\u001b[39m▆\u001b[39m▇\u001b[39m▆\u001b[39m▆\u001b[39m▆\u001b[39m▆\u001b[39m▅\u001b[39m▆\u001b[39m▄\u001b[39m▅\u001b[39m▆\u001b[39m▄\u001b[39m▄\u001b[39m▃\u001b[39m▄\u001b[39m▅\u001b[39m▅\u001b[39m▅\u001b[39m▅\u001b[39m▄\u001b[39m \u001b[39m█\n",
       "  1.01 μs\u001b[90m      \u001b[39m\u001b[90mHistogram: \u001b[39m\u001b[90m\u001b[1mlog(\u001b[22m\u001b[39m\u001b[90mfrequency\u001b[39m\u001b[90m\u001b[1m)\u001b[22m\u001b[39m\u001b[90m by time\u001b[39m      3.17 μs \u001b[0m\u001b[1m<\u001b[22m\n",
       "\n",
       " Memory estimate\u001b[90m: \u001b[39m\u001b[33m1.59 KiB\u001b[39m, allocs estimate\u001b[90m: \u001b[39m\u001b[33m12\u001b[39m."
      ]
     },
     "execution_count": 5,
     "metadata": {},
     "output_type": "execute_result"
    }
   ],
   "source": [
    "@benchmark r(1,1,1)"
   ]
  },
  {
   "cell_type": "markdown",
   "id": "02a87f65",
   "metadata": {},
   "source": [
    "# Improvment & changes"
   ]
  },
  {
   "cell_type": "code",
   "execution_count": 6,
   "id": "fd1b388b",
   "metadata": {},
   "outputs": [
    {
     "data": {
      "text/plain": [
       "r_imp (generic function with 1 method)"
      ]
     },
     "execution_count": 6,
     "metadata": {},
     "output_type": "execute_result"
    }
   ],
   "source": [
    " function r_imp(args...)\n",
    "   n = length(args)\n",
    "\n",
    "   if n == 1 # rotation in 2D\n",
    "\t   mat = r2D(args)\n",
    "   end\n",
    "\n",
    "    if n == 3 # rotation in 3D\n",
    "       mat = r3D(args)\n",
    "\tend\n",
    "\treturn mat\n",
    "end"
   ]
  },
  {
   "cell_type": "markdown",
   "id": "00ae75da",
   "metadata": {},
   "source": [
    "the new funcion r2D generate the rotation matrix for 2 dimension, the matrix in output has a dimension of 3 and the input (args) is a singol parameter"
   ]
  },
  {
   "cell_type": "code",
   "execution_count": 7,
   "id": "08403f09",
   "metadata": {},
   "outputs": [
    {
     "data": {
      "text/plain": [
       "r2D (generic function with 1 method)"
      ]
     },
     "execution_count": 7,
     "metadata": {},
     "output_type": "execute_result"
    }
   ],
   "source": [
    " @inline function r2D(args)\n",
    "\tangle = args[1]; COS = cos(angle); SIN = sin(angle)\n",
    "\tmat = MMatrix{3,3,Float64}(1I)\n",
    "\tmat[1,1] = COS;    mat[1,2] = -SIN;\n",
    "\tmat[2,1] = SIN;    mat[2,2] = COS;\n",
    "\treturn mat\n",
    "end"
   ]
  },
  {
   "cell_type": "markdown",
   "id": "2e6eccb3",
   "metadata": {},
   "source": [
    "the new funcion r3D generate the rotation matrix for 3 dimension, the matrix in output has a dimension of 4 and the input (args) is an array containing 3 elements, using those 3 element we can find the norm and using as rotation angle"
   ]
  },
  {
   "cell_type": "code",
   "execution_count": 8,
   "id": "12ace27c",
   "metadata": {},
   "outputs": [
    {
     "data": {
      "text/plain": [
       "r3D (generic function with 1 method)"
      ]
     },
     "execution_count": 8,
     "metadata": {},
     "output_type": "execute_result"
    }
   ],
   "source": [
    "@inline function r3D(args)\n",
    "\tmat =MMatrix{4,4,Float64}(1I)\n",
    "\tangle = norm(args);\n",
    "\tif angle != 0.0\n",
    "\t\t axis = args #normalize(args)\n",
    "\t\t COS = cos(angle); SIN= sin(angle)\n",
    "\t\t if axis[2]==axis[3]==0.0    # rotation about x\n",
    "\t\t\t mat = rX(mat,COS,SIN)\n",
    "\t\t elseif axis[1]==axis[3]==0.0   # rotation about y\n",
    "\t\t\t mat = rY(mat,COS,SIN)\n",
    "\t\t elseif axis[1]==axis[2]==0.0    # rotation about z\n",
    "\t\t\t mat = rZ(mat,COS,SIN)\n",
    "\t\t else\n",
    "\t\t\t mat = rAxis(mat,axis,COS,SIN)\n",
    "\t\t end\n",
    "\t end\n",
    "\t return mat\n",
    "end"
   ]
  },
  {
   "cell_type": "code",
   "execution_count": 9,
   "id": "4479cc13",
   "metadata": {},
   "outputs": [
    {
     "data": {
      "text/plain": [
       "rX (generic function with 1 method)"
      ]
     },
     "execution_count": 9,
     "metadata": {},
     "output_type": "execute_result"
    }
   ],
   "source": [
    "@inline function rX(mat,COS,SIN)\n",
    "\tmat[2,2] = COS;    mat[2,3] = -SIN;\n",
    "\tmat[3,2] = SIN;    mat[3,3] = COS;\n",
    "\treturn mat\n",
    "end"
   ]
  },
  {
   "cell_type": "code",
   "execution_count": 10,
   "id": "8bf0207a",
   "metadata": {},
   "outputs": [
    {
     "data": {
      "text/plain": [
       "rY (generic function with 1 method)"
      ]
     },
     "execution_count": 10,
     "metadata": {},
     "output_type": "execute_result"
    }
   ],
   "source": [
    "@inline function rY(mat,COS,SIN)\n",
    "\tmat[1,1] = COS;    mat[1,3] = SIN;\n",
    "\tmat[3,1] = -SIN;    mat[3,3] = COS;\n",
    "\treturn mat\n",
    "end"
   ]
  },
  {
   "cell_type": "code",
   "execution_count": 11,
   "id": "5dd3a7c4",
   "metadata": {},
   "outputs": [
    {
     "data": {
      "text/plain": [
       "rZ (generic function with 1 method)"
      ]
     },
     "execution_count": 11,
     "metadata": {},
     "output_type": "execute_result"
    }
   ],
   "source": [
    "@inline function rZ(mat,COS,SIN)\n",
    "\tmat[1,1] = COS;    mat[1,2] = -SIN;\n",
    "\tmat[2,1] = SIN;    mat[2,2] = COS;\n",
    "\treturn mat\n",
    "end"
   ]
  },
  {
   "cell_type": "markdown",
   "id": "b6cb582e",
   "metadata": {},
   "source": [
    "\"The speed of small SVectors, SMatrixs and SArrays is often > 10 × faster than Base.Array\" quote from staticarray.jl ReadMe"
   ]
  },
  {
   "cell_type": "code",
   "execution_count": 12,
   "id": "3bfe470e",
   "metadata": {},
   "outputs": [
    {
     "data": {
      "text/plain": [
       "rAxis (generic function with 1 method)"
      ]
     },
     "execution_count": 12,
     "metadata": {},
     "output_type": "execute_result"
    }
   ],
   "source": [
    "@inline @fastmath function rAxis(mat,axis,COS,SIN)\n",
    "\tid = SMatrix{3,3,Float64}(1I); \n",
    "    u = axis\n",
    "\tUx=[0 -u[3] u[2] ; u[3] 0 -u[1] ;  -u[2] u[1] 1]\n",
    "\tUU =[u[1]*u[1]    u[1]*u[2]   u[1]*u[3];\n",
    "\t\t u[2]*u[1]    u[2]*u[2]   u[2]*u[3];\n",
    "\t\t u[3]*u[1]    u[3]*u[2]   u[3]*u[3]]\n",
    "\tmat[1:3,1:3]=COS*id+SIN*Ux+(1.0-COS)*UU\n",
    "\treturn mat\n",
    "end"
   ]
  },
  {
   "cell_type": "code",
   "execution_count": 13,
   "id": "012447c0",
   "metadata": {},
   "outputs": [
    {
     "name": "stdout",
     "output_type": "stream",
     "text": [
      "  684.314 ns (9 allocations: 992 bytes)\n"
     ]
    },
    {
     "data": {
      "text/plain": [
       "4×4 MMatrix{4, 4, Float64, 16} with indices SOneTo(4)×SOneTo(4):\n",
       " 1.0      0.17353  2.14758  0.0\n",
       " 2.14758  1.0      0.17353  0.0\n",
       " 0.17353  2.14758  1.98703  0.0\n",
       " 0.0      0.0      0.0      1.0"
      ]
     },
     "execution_count": 13,
     "metadata": {},
     "output_type": "execute_result"
    }
   ],
   "source": [
    "@btime r_imp(1,1,1)"
   ]
  },
  {
   "cell_type": "code",
   "execution_count": 14,
   "id": "23b405b0",
   "metadata": {},
   "outputs": [
    {
     "name": "stdout",
     "output_type": "stream",
     "text": [
      "  15.315 ns (1 allocation: 80 bytes)\n"
     ]
    },
    {
     "data": {
      "text/plain": [
       "3×3 MMatrix{3, 3, Float64, 9} with indices SOneTo(3)×SOneTo(3):\n",
       " 1.0  -0.0  0.0\n",
       " 0.0   1.0  0.0\n",
       " 0.0   0.0  1.0"
      ]
     },
     "execution_count": 14,
     "metadata": {},
     "output_type": "execute_result"
    }
   ],
   "source": [
    "@btime r_imp(0)"
   ]
  },
  {
   "cell_type": "code",
   "execution_count": 15,
   "id": "c819a5d6",
   "metadata": {},
   "outputs": [
    {
     "data": {
      "text/plain": [
       "BenchmarkTools.Trial: 10000 samples with 153 evaluations.\n",
       " Range \u001b[90m(\u001b[39m\u001b[36m\u001b[1mmin\u001b[22m\u001b[39m … \u001b[35mmax\u001b[39m\u001b[90m):  \u001b[39m\u001b[36m\u001b[1m681.699 ns\u001b[22m\u001b[39m … \u001b[35m199.549 μs\u001b[39m  \u001b[90m┊\u001b[39m GC \u001b[90m(\u001b[39mmin … max\u001b[90m): \u001b[39m0.00% … 0.00%\n",
       " Time  \u001b[90m(\u001b[39m\u001b[34m\u001b[1mmedian\u001b[22m\u001b[39m\u001b[90m):     \u001b[39m\u001b[34m\u001b[1m707.843 ns               \u001b[22m\u001b[39m\u001b[90m┊\u001b[39m GC \u001b[90m(\u001b[39mmedian\u001b[90m):    \u001b[39m0.00%\n",
       " Time  \u001b[90m(\u001b[39m\u001b[32m\u001b[1mmean\u001b[22m\u001b[39m ± \u001b[32mσ\u001b[39m\u001b[90m):   \u001b[39m\u001b[32m\u001b[1m821.133 ns\u001b[22m\u001b[39m ± \u001b[32m  2.148 μs\u001b[39m  \u001b[90m┊\u001b[39m GC \u001b[90m(\u001b[39mmean ± σ\u001b[90m):  \u001b[39m5.45% ± 5.34%\n",
       "\n",
       "  \u001b[39m█\u001b[39m▆\u001b[34m▄\u001b[39m\u001b[39m▆\u001b[39m▆\u001b[39m▄\u001b[39m▃\u001b[39m▁\u001b[39m▂\u001b[39m▁\u001b[32m▁\u001b[39m\u001b[39m \u001b[39m \u001b[39m \u001b[39m \u001b[39m \u001b[39m \u001b[39m \u001b[39m \u001b[39m \u001b[39m \u001b[39m \u001b[39m \u001b[39m \u001b[39m \u001b[39m \u001b[39m \u001b[39m \u001b[39m \u001b[39m \u001b[39m \u001b[39m \u001b[39m \u001b[39m \u001b[39m \u001b[39m \u001b[39m \u001b[39m \u001b[39m \u001b[39m \u001b[39m \u001b[39m \u001b[39m \u001b[39m \u001b[39m \u001b[39m \u001b[39m \u001b[39m \u001b[39m \u001b[39m \u001b[39m \u001b[39m \u001b[39m \u001b[39m \u001b[39m \u001b[39m \u001b[39m \u001b[39m \u001b[39m \u001b[39m \u001b[39m \u001b[39m \u001b[39m▁\n",
       "  \u001b[39m█\u001b[39m█\u001b[34m█\u001b[39m\u001b[39m█\u001b[39m█\u001b[39m█\u001b[39m█\u001b[39m█\u001b[39m█\u001b[39m█\u001b[32m█\u001b[39m\u001b[39m█\u001b[39m▇\u001b[39m▇\u001b[39m▇\u001b[39m▇\u001b[39m▇\u001b[39m▇\u001b[39m▆\u001b[39m▇\u001b[39m▇\u001b[39m▇\u001b[39m▆\u001b[39m█\u001b[39m█\u001b[39m█\u001b[39m▇\u001b[39m▇\u001b[39m▇\u001b[39m▆\u001b[39m▆\u001b[39m▅\u001b[39m▅\u001b[39m▄\u001b[39m▅\u001b[39m▅\u001b[39m▄\u001b[39m▄\u001b[39m▅\u001b[39m▄\u001b[39m▅\u001b[39m▅\u001b[39m▅\u001b[39m▆\u001b[39m▅\u001b[39m▆\u001b[39m▄\u001b[39m▆\u001b[39m▅\u001b[39m▅\u001b[39m▆\u001b[39m▆\u001b[39m▅\u001b[39m▅\u001b[39m▅\u001b[39m▄\u001b[39m▄\u001b[39m▅\u001b[39m▄\u001b[39m▅\u001b[39m▄\u001b[39m \u001b[39m█\n",
       "  682 ns\u001b[90m        \u001b[39m\u001b[90mHistogram: \u001b[39m\u001b[90m\u001b[1mlog(\u001b[22m\u001b[39m\u001b[90mfrequency\u001b[39m\u001b[90m\u001b[1m)\u001b[22m\u001b[39m\u001b[90m by time\u001b[39m       1.57 μs \u001b[0m\u001b[1m<\u001b[22m\n",
       "\n",
       " Memory estimate\u001b[90m: \u001b[39m\u001b[33m992 bytes\u001b[39m, allocs estimate\u001b[90m: \u001b[39m\u001b[33m9\u001b[39m."
      ]
     },
     "execution_count": 15,
     "metadata": {},
     "output_type": "execute_result"
    }
   ],
   "source": [
    "@benchmark r_imp(1,1,1)"
   ]
  },
  {
   "cell_type": "code",
   "execution_count": 16,
   "id": "46fd55cc",
   "metadata": {},
   "outputs": [
    {
     "data": {
      "text/plain": [
       "BenchmarkTools.Trial: 10000 samples with 1000 evaluations.\n",
       " Range \u001b[90m(\u001b[39m\u001b[36m\u001b[1mmin\u001b[22m\u001b[39m … \u001b[35mmax\u001b[39m\u001b[90m):  \u001b[39m\u001b[36m\u001b[1m16.200 ns\u001b[22m\u001b[39m … \u001b[35m 2.196 μs\u001b[39m  \u001b[90m┊\u001b[39m GC \u001b[90m(\u001b[39mmin … max\u001b[90m): \u001b[39m 0.00% … 97.86%\n",
       " Time  \u001b[90m(\u001b[39m\u001b[34m\u001b[1mmedian\u001b[22m\u001b[39m\u001b[90m):     \u001b[39m\u001b[34m\u001b[1m17.200 ns              \u001b[22m\u001b[39m\u001b[90m┊\u001b[39m GC \u001b[90m(\u001b[39mmedian\u001b[90m):    \u001b[39m 0.00%\n",
       " Time  \u001b[90m(\u001b[39m\u001b[32m\u001b[1mmean\u001b[22m\u001b[39m ± \u001b[32mσ\u001b[39m\u001b[90m):   \u001b[39m\u001b[32m\u001b[1m23.114 ns\u001b[22m\u001b[39m ± \u001b[32m82.357 ns\u001b[39m  \u001b[90m┊\u001b[39m GC \u001b[90m(\u001b[39mmean ± σ\u001b[90m):  \u001b[39m14.44% ±  4.03%\n",
       "\n",
       "  \u001b[39m█\u001b[39m█\u001b[34m▆\u001b[39m\u001b[39m▅\u001b[39m▃\u001b[39m▂\u001b[39m▂\u001b[39m▁\u001b[39m▁\u001b[39m▁\u001b[32m▁\u001b[39m\u001b[39m▃\u001b[39m▃\u001b[39m▁\u001b[39m▁\u001b[39m \u001b[39m \u001b[39m \u001b[39m \u001b[39m \u001b[39m \u001b[39m \u001b[39m \u001b[39m \u001b[39m \u001b[39m \u001b[39m \u001b[39m \u001b[39m \u001b[39m \u001b[39m \u001b[39m \u001b[39m \u001b[39m \u001b[39m \u001b[39m \u001b[39m \u001b[39m \u001b[39m \u001b[39m \u001b[39m \u001b[39m \u001b[39m \u001b[39m \u001b[39m \u001b[39m \u001b[39m \u001b[39m \u001b[39m \u001b[39m \u001b[39m \u001b[39m \u001b[39m▁\u001b[39m \u001b[39m▂\u001b[39m▁\u001b[39m \u001b[39m \u001b[39m \u001b[39m \u001b[39m▂\n",
       "  \u001b[39m█\u001b[39m█\u001b[34m█\u001b[39m\u001b[39m█\u001b[39m█\u001b[39m█\u001b[39m█\u001b[39m█\u001b[39m█\u001b[39m█\u001b[32m█\u001b[39m\u001b[39m█\u001b[39m█\u001b[39m█\u001b[39m█\u001b[39m█\u001b[39m█\u001b[39m▇\u001b[39m▇\u001b[39m▆\u001b[39m▇\u001b[39m█\u001b[39m▇\u001b[39m▇\u001b[39m▇\u001b[39m▇\u001b[39m▇\u001b[39m▆\u001b[39m▆\u001b[39m▅\u001b[39m▆\u001b[39m▅\u001b[39m▃\u001b[39m▆\u001b[39m▅\u001b[39m▅\u001b[39m▆\u001b[39m▄\u001b[39m▃\u001b[39m▄\u001b[39m▄\u001b[39m▄\u001b[39m▄\u001b[39m▃\u001b[39m▃\u001b[39m▃\u001b[39m▃\u001b[39m▃\u001b[39m▁\u001b[39m▅\u001b[39m▇\u001b[39m▆\u001b[39m█\u001b[39m█\u001b[39m█\u001b[39m█\u001b[39m▇\u001b[39m▆\u001b[39m▇\u001b[39m \u001b[39m█\n",
       "  16.2 ns\u001b[90m      \u001b[39m\u001b[90mHistogram: \u001b[39m\u001b[90m\u001b[1mlog(\u001b[22m\u001b[39m\u001b[90mfrequency\u001b[39m\u001b[90m\u001b[1m)\u001b[22m\u001b[39m\u001b[90m by time\u001b[39m      55.3 ns \u001b[0m\u001b[1m<\u001b[22m\n",
       "\n",
       " Memory estimate\u001b[90m: \u001b[39m\u001b[33m80 bytes\u001b[39m, allocs estimate\u001b[90m: \u001b[39m\u001b[33m1\u001b[39m."
      ]
     },
     "execution_count": 16,
     "metadata": {},
     "output_type": "execute_result"
    }
   ],
   "source": [
    "@benchmark r_imp(0)"
   ]
  },
  {
   "cell_type": "markdown",
   "id": "ff1444ac",
   "metadata": {},
   "source": [
    "# using inline in the r funcion we can cut the 2D mean time by 4ns and 100ns for 3D"
   ]
  },
  {
   "cell_type": "code",
   "execution_count": 17,
   "id": "b7942de0",
   "metadata": {},
   "outputs": [
    {
     "data": {
      "text/plain": [
       "r_inline (generic function with 1 method)"
      ]
     },
     "execution_count": 17,
     "metadata": {},
     "output_type": "execute_result"
    }
   ],
   "source": [
    "@inline function r_inline(args...)\n",
    "   n = length(args)\n",
    "\n",
    "   if n == 1 # rotation in 2D\n",
    "\t   mat = r2D(args)\n",
    "   end\n",
    "\n",
    "    if n == 3 # rotation in 3D\n",
    "       mat = r3D(args)\n",
    "\tend\n",
    "\treturn mat\n",
    "end"
   ]
  },
  {
   "cell_type": "code",
   "execution_count": 19,
   "id": "421d2117",
   "metadata": {},
   "outputs": [
    {
     "data": {
      "text/plain": [
       "BenchmarkTools.Trial: 10000 samples with 188 evaluations.\n",
       " Range \u001b[90m(\u001b[39m\u001b[36m\u001b[1mmin\u001b[22m\u001b[39m … \u001b[35mmax\u001b[39m\u001b[90m):  \u001b[39m\u001b[36m\u001b[1m542.021 ns\u001b[22m\u001b[39m … \u001b[35m 14.216 μs\u001b[39m  \u001b[90m┊\u001b[39m GC \u001b[90m(\u001b[39mmin … max\u001b[90m): \u001b[39m0.00% … 93.73%\n",
       " Time  \u001b[90m(\u001b[39m\u001b[34m\u001b[1mmedian\u001b[22m\u001b[39m\u001b[90m):     \u001b[39m\u001b[34m\u001b[1m563.298 ns               \u001b[22m\u001b[39m\u001b[90m┊\u001b[39m GC \u001b[90m(\u001b[39mmedian\u001b[90m):    \u001b[39m0.00%\n",
       " Time  \u001b[90m(\u001b[39m\u001b[32m\u001b[1mmean\u001b[22m\u001b[39m ± \u001b[32mσ\u001b[39m\u001b[90m):   \u001b[39m\u001b[32m\u001b[1m642.919 ns\u001b[22m\u001b[39m ± \u001b[32m600.855 ns\u001b[39m  \u001b[90m┊\u001b[39m GC \u001b[90m(\u001b[39mmean ± σ\u001b[90m):  \u001b[39m5.46% ±  5.66%\n",
       "\n",
       "  \u001b[39m█\u001b[39m▅\u001b[34m▄\u001b[39m\u001b[39m▆\u001b[39m▅\u001b[39m▃\u001b[39m▃\u001b[39m▂\u001b[32m▂\u001b[39m\u001b[39m▁\u001b[39m \u001b[39m▁\u001b[39m \u001b[39m \u001b[39m \u001b[39m \u001b[39m \u001b[39m \u001b[39m \u001b[39m \u001b[39m \u001b[39m \u001b[39m \u001b[39m \u001b[39m \u001b[39m \u001b[39m \u001b[39m \u001b[39m \u001b[39m \u001b[39m \u001b[39m \u001b[39m \u001b[39m \u001b[39m \u001b[39m \u001b[39m \u001b[39m \u001b[39m \u001b[39m \u001b[39m \u001b[39m \u001b[39m \u001b[39m \u001b[39m \u001b[39m \u001b[39m \u001b[39m \u001b[39m \u001b[39m \u001b[39m \u001b[39m \u001b[39m \u001b[39m \u001b[39m \u001b[39m \u001b[39m \u001b[39m \u001b[39m \u001b[39m \u001b[39m \u001b[39m \u001b[39m▁\n",
       "  \u001b[39m█\u001b[39m█\u001b[34m█\u001b[39m\u001b[39m█\u001b[39m█\u001b[39m█\u001b[39m█\u001b[39m█\u001b[32m█\u001b[39m\u001b[39m█\u001b[39m█\u001b[39m█\u001b[39m▇\u001b[39m▇\u001b[39m▇\u001b[39m█\u001b[39m▇\u001b[39m▇\u001b[39m▆\u001b[39m▆\u001b[39m▆\u001b[39m▆\u001b[39m▆\u001b[39m▇\u001b[39m▇\u001b[39m▆\u001b[39m▆\u001b[39m█\u001b[39m▇\u001b[39m▇\u001b[39m▇\u001b[39m▇\u001b[39m▇\u001b[39m▇\u001b[39m▆\u001b[39m▇\u001b[39m▅\u001b[39m▆\u001b[39m▄\u001b[39m▆\u001b[39m▅\u001b[39m▅\u001b[39m▅\u001b[39m▅\u001b[39m▅\u001b[39m▅\u001b[39m▆\u001b[39m▄\u001b[39m▅\u001b[39m▅\u001b[39m▅\u001b[39m▄\u001b[39m▄\u001b[39m▅\u001b[39m▄\u001b[39m▅\u001b[39m▅\u001b[39m▄\u001b[39m▄\u001b[39m▃\u001b[39m▅\u001b[39m \u001b[39m█\n",
       "  542 ns\u001b[90m        \u001b[39m\u001b[90mHistogram: \u001b[39m\u001b[90m\u001b[1mlog(\u001b[22m\u001b[39m\u001b[90mfrequency\u001b[39m\u001b[90m\u001b[1m)\u001b[22m\u001b[39m\u001b[90m by time\u001b[39m       1.32 μs \u001b[0m\u001b[1m<\u001b[22m\n",
       "\n",
       " Memory estimate\u001b[90m: \u001b[39m\u001b[33m944 bytes\u001b[39m, allocs estimate\u001b[90m: \u001b[39m\u001b[33m7\u001b[39m."
      ]
     },
     "execution_count": 19,
     "metadata": {},
     "output_type": "execute_result"
    }
   ],
   "source": [
    "@benchmark r_inline(1,1,1)"
   ]
  },
  {
   "cell_type": "code",
   "execution_count": 20,
   "id": "242929b6",
   "metadata": {},
   "outputs": [
    {
     "data": {
      "text/plain": [
       "BenchmarkTools.Trial: 10000 samples with 999 evaluations.\n",
       " Range \u001b[90m(\u001b[39m\u001b[36m\u001b[1mmin\u001b[22m\u001b[39m … \u001b[35mmax\u001b[39m\u001b[90m):  \u001b[39m\u001b[36m\u001b[1m11.512 ns\u001b[22m\u001b[39m … \u001b[35m 2.389 μs\u001b[39m  \u001b[90m┊\u001b[39m GC \u001b[90m(\u001b[39mmin … max\u001b[90m): \u001b[39m 0.00% … 98.28%\n",
       " Time  \u001b[90m(\u001b[39m\u001b[34m\u001b[1mmedian\u001b[22m\u001b[39m\u001b[90m):     \u001b[39m\u001b[34m\u001b[1m12.312 ns              \u001b[22m\u001b[39m\u001b[90m┊\u001b[39m GC \u001b[90m(\u001b[39mmedian\u001b[90m):    \u001b[39m 0.00%\n",
       " Time  \u001b[90m(\u001b[39m\u001b[32m\u001b[1mmean\u001b[22m\u001b[39m ± \u001b[32mσ\u001b[39m\u001b[90m):   \u001b[39m\u001b[32m\u001b[1m18.431 ns\u001b[22m\u001b[39m ± \u001b[32m88.636 ns\u001b[39m  \u001b[90m┊\u001b[39m GC \u001b[90m(\u001b[39mmean ± σ\u001b[90m):  \u001b[39m19.54% ±  4.05%\n",
       "\n",
       "  \u001b[39m█\u001b[34m▇\u001b[39m\u001b[39m▆\u001b[39m▆\u001b[39m▅\u001b[39m▃\u001b[39m▂\u001b[39m▁\u001b[39m▁\u001b[39m \u001b[39m \u001b[32m▁\u001b[39m\u001b[39m▂\u001b[39m▁\u001b[39m▁\u001b[39m▁\u001b[39m \u001b[39m \u001b[39m▁\u001b[39m \u001b[39m \u001b[39m \u001b[39m \u001b[39m \u001b[39m \u001b[39m \u001b[39m \u001b[39m \u001b[39m \u001b[39m \u001b[39m \u001b[39m \u001b[39m \u001b[39m \u001b[39m \u001b[39m \u001b[39m \u001b[39m \u001b[39m \u001b[39m \u001b[39m \u001b[39m \u001b[39m \u001b[39m \u001b[39m \u001b[39m \u001b[39m \u001b[39m \u001b[39m \u001b[39m \u001b[39m \u001b[39m \u001b[39m \u001b[39m \u001b[39m \u001b[39m▁\u001b[39m \u001b[39m▁\u001b[39m▂\u001b[39m \u001b[39m▂\n",
       "  \u001b[39m█\u001b[34m█\u001b[39m\u001b[39m█\u001b[39m█\u001b[39m█\u001b[39m█\u001b[39m█\u001b[39m█\u001b[39m█\u001b[39m█\u001b[39m▇\u001b[32m█\u001b[39m\u001b[39m█\u001b[39m█\u001b[39m█\u001b[39m█\u001b[39m█\u001b[39m█\u001b[39m█\u001b[39m█\u001b[39m▇\u001b[39m▆\u001b[39m▆\u001b[39m▆\u001b[39m▆\u001b[39m▄\u001b[39m▆\u001b[39m▆\u001b[39m▅\u001b[39m▆\u001b[39m▅\u001b[39m▃\u001b[39m▆\u001b[39m▆\u001b[39m▄\u001b[39m▆\u001b[39m▅\u001b[39m▄\u001b[39m▆\u001b[39m▃\u001b[39m▅\u001b[39m▄\u001b[39m▃\u001b[39m▅\u001b[39m▄\u001b[39m▃\u001b[39m▃\u001b[39m▁\u001b[39m▃\u001b[39m▃\u001b[39m▁\u001b[39m▃\u001b[39m▆\u001b[39m▇\u001b[39m▆\u001b[39m█\u001b[39m▇\u001b[39m█\u001b[39m█\u001b[39m \u001b[39m█\n",
       "  11.5 ns\u001b[90m      \u001b[39m\u001b[90mHistogram: \u001b[39m\u001b[90m\u001b[1mlog(\u001b[22m\u001b[39m\u001b[90mfrequency\u001b[39m\u001b[90m\u001b[1m)\u001b[22m\u001b[39m\u001b[90m by time\u001b[39m      48.3 ns \u001b[0m\u001b[1m<\u001b[22m\n",
       "\n",
       " Memory estimate\u001b[90m: \u001b[39m\u001b[33m80 bytes\u001b[39m, allocs estimate\u001b[90m: \u001b[39m\u001b[33m1\u001b[39m."
      ]
     },
     "execution_count": 20,
     "metadata": {},
     "output_type": "execute_result"
    }
   ],
   "source": [
    "@benchmark r_inline(0)"
   ]
  },
  {
   "cell_type": "code",
   "execution_count": null,
   "id": "4170ecf9",
   "metadata": {},
   "outputs": [],
   "source": []
  }
 ],
 "metadata": {
  "kernelspec": {
   "display_name": "Julia 1.6.5",
   "language": "julia",
   "name": "julia-1.6"
  },
  "language_info": {
   "file_extension": ".jl",
   "mimetype": "application/julia",
   "name": "julia",
   "version": "1.6.5"
  }
 },
 "nbformat": 4,
 "nbformat_minor": 5
}
