{
 "cells": [
  {
   "cell_type": "markdown",
   "id": "eb7a8793",
   "metadata": {},
   "source": [
    "#   Struct\n",
    "\n",
    "###  Andrea Iskander Belkhir id : 511089\n",
    "\n",
    "###  Beyza Özdemir id : 576145"
   ]
  },
  {
   "cell_type": "code",
   "execution_count": 1,
   "id": "d7582c62",
   "metadata": {},
   "outputs": [
    {
     "data": {
      "text/plain": [
       "LinearAlgebraicRepresentation"
      ]
     },
     "execution_count": 1,
     "metadata": {},
     "output_type": "execute_result"
    }
   ],
   "source": [
    "using BenchmarkTools\n",
    "using LinearAlgebra\n",
    "using Distributed\n",
    "using LinearAlgebraicRepresentation\n",
    "Lar = LinearAlgebraicRepresentation"
   ]
  },
  {
   "cell_type": "markdown",
   "id": "b2068356",
   "metadata": {},
   "source": [
    "# Struct2lar(struct) "
   ]
  },
  {
   "cell_type": "markdown",
   "id": "d4e5ae43",
   "metadata": {},
   "source": [
    "it turn the stuct into is the linear algebraic representation as a tuple(vertices,faces(cells),edges). it basicaly flat the struct into a unique data struct of lar type."
   ]
  },
  {
   "cell_type": "code",
   "execution_count": 2,
   "id": "3ce5f110",
   "metadata": {},
   "outputs": [
    {
     "data": {
      "text/plain": [
       "([0.0 0.0 1.0 1.0; 0.0 1.0 0.0 1.0], [[1, 2, 3, 4]])"
      ]
     },
     "execution_count": 2,
     "metadata": {},
     "output_type": "execute_result"
    }
   ],
   "source": [
    "square = Lar.cuboid([1,1])"
   ]
  },
  {
   "cell_type": "code",
   "execution_count": 3,
   "id": "5ddb4431",
   "metadata": {},
   "outputs": [
    {
     "data": {
      "text/plain": [
       "([-0.5 -0.5 0.5 0.5; -0.5 0.5 -0.5 0.5], [[1, 2, 3, 4]])"
      ]
     },
     "execution_count": 3,
     "metadata": {},
     "output_type": "execute_result"
    }
   ],
   "source": [
    "table = Lar.apply(Lar.t(-0.5,-0.5),square)"
   ]
  },
  {
   "cell_type": "code",
   "execution_count": 4,
   "id": "18c15b4d",
   "metadata": {},
   "outputs": [
    {
     "data": {
      "text/plain": [
       "LinearAlgebraicRepresentation.Struct(Any[([-0.5 -0.5 0.5 0.5; -0.5 0.5 -0.5 0.5], [[1, 2, 3, 4]]), [6.123233995736766e-17 -1.0 0.0; 1.0 6.123233995736766e-17 0.0; 0.0 0.0 1.0], ([-0.5 -0.5 0.5 0.5; -0.5 0.5 -0.5 0.5], [[1, 2, 3, 4]]), [6.123233995736766e-17 -1.0 0.0; 1.0 6.123233995736766e-17 0.0; 0.0 0.0 1.0]], [[-0.5; -0.5], [0.5; 0.5]], \"18396801955675632873\", 2, \"feature\")"
      ]
     },
     "execution_count": 4,
     "metadata": {},
     "output_type": "execute_result"
    }
   ],
   "source": [
    "structure = Lar.Struct([repeat([table,Lar.r(pi/2)],outer=2)...])"
   ]
  },
  {
   "cell_type": "code",
   "execution_count": 5,
   "id": "ec115c7d",
   "metadata": {},
   "outputs": [
    {
     "data": {
      "text/plain": [
       "struct2lar (generic function with 1 method)"
      ]
     },
     "execution_count": 5,
     "metadata": {},
     "output_type": "execute_result"
    }
   ],
   "source": [
    "function struct2lar(structure)\n",
    "\tlistOfModels = Lar.evalStruct(structure)\n",
    "\tvertDict = Dict()\n",
    "\tindex,defaultValue = 0,0\n",
    "\tW = Array{Float64,1}[]\n",
    "\tm = length(listOfModels[1])\n",
    "\tlarmodel = [Array{Number,1}[] for k=1:m]\n",
    "\n",
    "\tfor model in listOfModels\n",
    "\t\tV = model[1]\n",
    "\t\tfor k=2:m\n",
    "\t\t\tfor incell in model[k]\n",
    "\t\t\t\toutcell=[]\n",
    "\t\t\t\tfor v in incell\n",
    "\t\t\t\t\tkey = map(Lar.approxVal(7), V[:,v])\n",
    "\t\t\t\t\tif get(vertDict,key,defaultValue)==defaultValue\n",
    "\t\t\t\t\t\tindex += 1\n",
    "\t\t\t\t\t\tvertDict[key]=index\n",
    "\t\t\t\t\t\tpush!(outcell,index)\n",
    "\t\t\t\t\t\tpush!(W,key)\n",
    "\t\t\t\t\telse\n",
    "\t\t\t\t\t\tpush!(outcell,vertDict[key])\n",
    "\t\t\t\t\tend\n",
    "\t\t\t\tend\n",
    "\t\t\t\tappend!(larmodel[k],[outcell])\n",
    "\t\t\tend\n",
    "\t\tend\n",
    "\tend\n",
    "\n",
    "\tappend!(larmodel[1], W)\n",
    "\tV = hcat(larmodel[1]...)\n",
    "\tchains = [convert(Lar.Cells, chain) for chain in larmodel[2:end]]\n",
    "\treturn (V, chains...)\n",
    "end"
   ]
  },
  {
   "cell_type": "code",
   "execution_count": 6,
   "id": "82ef2743",
   "metadata": {},
   "outputs": [
    {
     "name": "stdout",
     "output_type": "stream",
     "text": [
      "  23.900 μs (139 allocations: 8.53 KiB)\n"
     ]
    },
    {
     "data": {
      "text/plain": [
       "([-0.5 -0.5 0.5 0.5; -0.5 0.5 -0.5 0.5], [[1, 2, 3, 4], [3, 1, 4, 2]])"
      ]
     },
     "execution_count": 6,
     "metadata": {},
     "output_type": "execute_result"
    }
   ],
   "source": [
    "@btime struct2lar(structure)"
   ]
  },
  {
   "cell_type": "code",
   "execution_count": 7,
   "id": "28bf92d4",
   "metadata": {},
   "outputs": [
    {
     "data": {
      "text/plain": [
       "BenchmarkTools.Trial: 10000 samples with 1 evaluation.\n",
       " Range \u001b[90m(\u001b[39m\u001b[36m\u001b[1mmin\u001b[22m\u001b[39m … \u001b[35mmax\u001b[39m\u001b[90m):  \u001b[39m\u001b[36m\u001b[1m23.900 μs\u001b[22m\u001b[39m … \u001b[35m214.700 μs\u001b[39m  \u001b[90m┊\u001b[39m GC \u001b[90m(\u001b[39mmin … max\u001b[90m): \u001b[39m0.00% … 0.00%\n",
       " Time  \u001b[90m(\u001b[39m\u001b[34m\u001b[1mmedian\u001b[22m\u001b[39m\u001b[90m):     \u001b[39m\u001b[34m\u001b[1m25.800 μs               \u001b[22m\u001b[39m\u001b[90m┊\u001b[39m GC \u001b[90m(\u001b[39mmedian\u001b[90m):    \u001b[39m0.00%\n",
       " Time  \u001b[90m(\u001b[39m\u001b[32m\u001b[1mmean\u001b[22m\u001b[39m ± \u001b[32mσ\u001b[39m\u001b[90m):   \u001b[39m\u001b[32m\u001b[1m29.065 μs\u001b[22m\u001b[39m ± \u001b[32m 10.649 μs\u001b[39m  \u001b[90m┊\u001b[39m GC \u001b[90m(\u001b[39mmean ± σ\u001b[90m):  \u001b[39m0.00% ± 0.00%\n",
       "\n",
       "  \u001b[39m▄\u001b[39m█\u001b[34m▆\u001b[39m\u001b[39m▅\u001b[39m▄\u001b[39m▃\u001b[32m▂\u001b[39m\u001b[39m▂\u001b[39m▂\u001b[39m▁\u001b[39m▂\u001b[39m▃\u001b[39m▃\u001b[39m▁\u001b[39m▁\u001b[39m \u001b[39m \u001b[39m \u001b[39m \u001b[39m \u001b[39m \u001b[39m \u001b[39m \u001b[39m \u001b[39m \u001b[39m \u001b[39m \u001b[39m \u001b[39m \u001b[39m \u001b[39m \u001b[39m \u001b[39m \u001b[39m \u001b[39m \u001b[39m \u001b[39m \u001b[39m \u001b[39m \u001b[39m \u001b[39m \u001b[39m \u001b[39m \u001b[39m \u001b[39m \u001b[39m \u001b[39m \u001b[39m \u001b[39m \u001b[39m \u001b[39m \u001b[39m \u001b[39m \u001b[39m \u001b[39m \u001b[39m \u001b[39m \u001b[39m \u001b[39m \u001b[39m \u001b[39m \u001b[39m▁\n",
       "  \u001b[39m█\u001b[39m█\u001b[34m█\u001b[39m\u001b[39m█\u001b[39m█\u001b[39m█\u001b[32m█\u001b[39m\u001b[39m█\u001b[39m█\u001b[39m█\u001b[39m█\u001b[39m█\u001b[39m█\u001b[39m█\u001b[39m█\u001b[39m█\u001b[39m█\u001b[39m▇\u001b[39m▆\u001b[39m▇\u001b[39m▆\u001b[39m▇\u001b[39m▆\u001b[39m▇\u001b[39m▆\u001b[39m▅\u001b[39m▆\u001b[39m▆\u001b[39m▅\u001b[39m▅\u001b[39m▆\u001b[39m▆\u001b[39m▆\u001b[39m▅\u001b[39m▅\u001b[39m▅\u001b[39m▅\u001b[39m▄\u001b[39m▅\u001b[39m▅\u001b[39m▆\u001b[39m▅\u001b[39m▇\u001b[39m▆\u001b[39m▆\u001b[39m▃\u001b[39m▄\u001b[39m▅\u001b[39m▅\u001b[39m▅\u001b[39m▄\u001b[39m▅\u001b[39m▄\u001b[39m▃\u001b[39m▅\u001b[39m▃\u001b[39m▅\u001b[39m▅\u001b[39m▅\u001b[39m▄\u001b[39m \u001b[39m█\n",
       "  23.9 μs\u001b[90m       \u001b[39m\u001b[90mHistogram: \u001b[39m\u001b[90m\u001b[1mlog(\u001b[22m\u001b[39m\u001b[90mfrequency\u001b[39m\u001b[90m\u001b[1m)\u001b[22m\u001b[39m\u001b[90m by time\u001b[39m      76.6 μs \u001b[0m\u001b[1m<\u001b[22m\n",
       "\n",
       " Memory estimate\u001b[90m: \u001b[39m\u001b[33m8.53 KiB\u001b[39m, allocs estimate\u001b[90m: \u001b[39m\u001b[33m139\u001b[39m."
      ]
     },
     "execution_count": 7,
     "metadata": {},
     "output_type": "execute_result"
    }
   ],
   "source": [
    "@benchmark struct2lar(structure)"
   ]
  },
  {
   "cell_type": "markdown",
   "id": "518b1e23",
   "metadata": {},
   "source": [
    "# Improvment and changes"
   ]
  },
  {
   "cell_type": "code",
   "execution_count": 8,
   "id": "ecb1f750",
   "metadata": {},
   "outputs": [
    {
     "data": {
      "text/plain": [
       "struct2lar_imp (generic function with 1 method)"
      ]
     },
     "execution_count": 8,
     "metadata": {},
     "output_type": "execute_result"
    }
   ],
   "source": [
    "function struct2lar_imp(structure) \n",
    "\tlarmodel,W = flat(Lar.evalStruct(structure))\n",
    "\tappend!(larmodel[1], W)\n",
    "\tV = hcat(larmodel[1]...)\n",
    "\tchains = [convert(Lar.Cells, chain) for chain in larmodel[2:end]]\n",
    "\treturn (V, chains...)\n",
    "end"
   ]
  },
  {
   "cell_type": "code",
   "execution_count": 9,
   "id": "77edd7f7",
   "metadata": {},
   "outputs": [
    {
     "data": {
      "text/plain": [
       "flat (generic function with 1 method)"
      ]
     },
     "execution_count": 9,
     "metadata": {},
     "output_type": "execute_result"
    }
   ],
   "source": [
    "function flat(listOfModels)\n",
    "\tW = Array{Float64,1}[]\n",
    "\tm = length(listOfModels[1])\n",
    "\tlarmodel = [Array{Float64,1}[] for k=1:m]\n",
    "\tvertDict = Dict()\n",
    "\tindex,defaultValue = 0,0\n",
    "\tfor model in listOfModels\n",
    "\t\tV = model[1]\n",
    "\t\tfor k=2:m\n",
    "\t\t\tfor incell in model[k]\n",
    "\t\t\t\toutcell=[]\n",
    "\t\t\t\tfor v in incell\n",
    "\t\t\t\t\tkey = map(Lar.approxVal(7), V[:,v])\n",
    "\t\t\t\t\tif get(vertDict,key,defaultValue)==defaultValue\n",
    "\t\t\t\t\t\tindex += 1\n",
    "\t\t\t\t\t\tvertDict[key]=index\n",
    "\t\t\t\t\t\tpush!(outcell,index)\n",
    "\t\t\t\t\t\tpush!(W,key)\n",
    "\t\t\t\t\telse\n",
    "\t\t\t\t\t\tpush!(outcell,vertDict[key])\n",
    "\t\t\t\t\tend\n",
    "\t\t\t\tend\n",
    "\t\t\t\tappend!(larmodel[k],[outcell])\n",
    "\t\t\tend\n",
    "\t\tend\n",
    "\tend\n",
    "\treturn larmodel,W\n",
    "end"
   ]
  },
  {
   "cell_type": "code",
   "execution_count": 10,
   "id": "ad81b235",
   "metadata": {},
   "outputs": [
    {
     "data": {
      "text/plain": [
       "BenchmarkTools.Trial: 10000 samples with 1 evaluation.\n",
       " Range \u001b[90m(\u001b[39m\u001b[36m\u001b[1mmin\u001b[22m\u001b[39m … \u001b[35mmax\u001b[39m\u001b[90m):  \u001b[39m\u001b[36m\u001b[1m22.900 μs\u001b[22m\u001b[39m … \u001b[35m 6.970 ms\u001b[39m  \u001b[90m┊\u001b[39m GC \u001b[90m(\u001b[39mmin … max\u001b[90m): \u001b[39m0.00% … 98.66%\n",
       " Time  \u001b[90m(\u001b[39m\u001b[34m\u001b[1mmedian\u001b[22m\u001b[39m\u001b[90m):     \u001b[39m\u001b[34m\u001b[1m24.200 μs              \u001b[22m\u001b[39m\u001b[90m┊\u001b[39m GC \u001b[90m(\u001b[39mmedian\u001b[90m):    \u001b[39m0.00%\n",
       " Time  \u001b[90m(\u001b[39m\u001b[32m\u001b[1mmean\u001b[22m\u001b[39m ± \u001b[32mσ\u001b[39m\u001b[90m):   \u001b[39m\u001b[32m\u001b[1m26.535 μs\u001b[22m\u001b[39m ± \u001b[32m69.588 μs\u001b[39m  \u001b[90m┊\u001b[39m GC \u001b[90m(\u001b[39mmean ± σ\u001b[90m):  \u001b[39m2.59% ±  0.99%\n",
       "\n",
       "  \u001b[39m▂\u001b[39m▆\u001b[39m█\u001b[39m█\u001b[39m█\u001b[34m▇\u001b[39m\u001b[39m▅\u001b[39m▅\u001b[39m▄\u001b[39m▂\u001b[39m▃\u001b[39m▄\u001b[39m▄\u001b[32m▃\u001b[39m\u001b[39m▄\u001b[39m▃\u001b[39m▂\u001b[39m▂\u001b[39m▂\u001b[39m▁\u001b[39m▁\u001b[39m▁\u001b[39m \u001b[39m▁\u001b[39m▂\u001b[39m▁\u001b[39m▁\u001b[39m▁\u001b[39m▁\u001b[39m \u001b[39m▁\u001b[39m \u001b[39m \u001b[39m▁\u001b[39m▁\u001b[39m▂\u001b[39m▁\u001b[39m▃\u001b[39m▂\u001b[39m▁\u001b[39m▁\u001b[39m▁\u001b[39m \u001b[39m \u001b[39m \u001b[39m \u001b[39m \u001b[39m \u001b[39m \u001b[39m \u001b[39m \u001b[39m \u001b[39m \u001b[39m \u001b[39m \u001b[39m \u001b[39m \u001b[39m \u001b[39m \u001b[39m \u001b[39m▂\n",
       "  \u001b[39m█\u001b[39m█\u001b[39m█\u001b[39m█\u001b[39m█\u001b[34m█\u001b[39m\u001b[39m█\u001b[39m█\u001b[39m█\u001b[39m█\u001b[39m█\u001b[39m█\u001b[39m█\u001b[32m█\u001b[39m\u001b[39m█\u001b[39m█\u001b[39m█\u001b[39m█\u001b[39m█\u001b[39m█\u001b[39m█\u001b[39m█\u001b[39m█\u001b[39m█\u001b[39m█\u001b[39m█\u001b[39m█\u001b[39m█\u001b[39m█\u001b[39m█\u001b[39m█\u001b[39m█\u001b[39m█\u001b[39m█\u001b[39m█\u001b[39m█\u001b[39m█\u001b[39m█\u001b[39m█\u001b[39m█\u001b[39m█\u001b[39m█\u001b[39m▇\u001b[39m█\u001b[39m█\u001b[39m▇\u001b[39m█\u001b[39m▇\u001b[39m▇\u001b[39m▅\u001b[39m▇\u001b[39m▅\u001b[39m▆\u001b[39m▆\u001b[39m▅\u001b[39m▅\u001b[39m▆\u001b[39m▆\u001b[39m▅\u001b[39m \u001b[39m█\n",
       "  22.9 μs\u001b[90m      \u001b[39m\u001b[90mHistogram: \u001b[39m\u001b[90m\u001b[1mlog(\u001b[22m\u001b[39m\u001b[90mfrequency\u001b[39m\u001b[90m\u001b[1m)\u001b[22m\u001b[39m\u001b[90m by time\u001b[39m      38.8 μs \u001b[0m\u001b[1m<\u001b[22m\n",
       "\n",
       " Memory estimate\u001b[90m: \u001b[39m\u001b[33m7.73 KiB\u001b[39m, allocs estimate\u001b[90m: \u001b[39m\u001b[33m120\u001b[39m."
      ]
     },
     "execution_count": 10,
     "metadata": {},
     "output_type": "execute_result"
    }
   ],
   "source": [
    "@benchmark struct2lar_imp(structure)"
   ]
  },
  {
   "cell_type": "markdown",
   "id": "26e19534",
   "metadata": {},
   "source": [
    "# Paralelization"
   ]
  },
  {
   "cell_type": "code",
   "execution_count": 11,
   "id": "928351cf",
   "metadata": {},
   "outputs": [
    {
     "data": {
      "text/plain": [
       "struct2larasy (generic function with 1 method)"
      ]
     },
     "execution_count": 11,
     "metadata": {},
     "output_type": "execute_result"
    }
   ],
   "source": [
    "function struct2larasy(structure) \n",
    "\tlarmodel,W = flatasy(Lar.evalStruct(structure))\n",
    "\tappend!(larmodel[1], W)\n",
    "\tV = hcat(larmodel[1]...)\n",
    "\tchains = [convert(Lar.Cells, chain) for chain in larmodel[2:end]]\n",
    "\treturn (V, chains...)\n",
    "end"
   ]
  },
  {
   "cell_type": "code",
   "execution_count": 12,
   "id": "0c2a01ca",
   "metadata": {},
   "outputs": [
    {
     "data": {
      "text/plain": [
       "flatasy (generic function with 1 method)"
      ]
     },
     "execution_count": 12,
     "metadata": {},
     "output_type": "execute_result"
    }
   ],
   "source": [
    "function flatasy(listOfModels)\n",
    "\tW = Array{Float64,1}[]\n",
    "\tm = length(listOfModels[1])\n",
    "\tlarmodel = [Array{Float64,1}[] for k=1:m]\n",
    "\tvertDict = Dict()\n",
    "\tindex,defaultValue = 0,0\n",
    "\t@async for model in listOfModels\n",
    "\t\tV = model[1]\n",
    "\t\tfor k=2:m\n",
    "\t\t\t  for incell in model[k]\n",
    "\t\t\t\toutcell=[]\n",
    "\t\t\t\t @async for v in incell\n",
    "\t\t\t\t\t key = map(Lar.approxVal(7), V[:,v])\n",
    "\t\t\t\t\tif get(vertDict,key,defaultValue)==defaultValue\n",
    "\t\t\t\t\t\tindex += 1\n",
    "\t\t\t\t\t\tvertDict[key]=index\n",
    "\t\t\t\t\t\tpush!(outcell,index)\n",
    "\t\t\t\t\t\tpush!(W,key)\n",
    "\t\t\t\t\telse\n",
    "\t\t\t\t\t\tpush!(outcell,vertDict[key])\n",
    "\t\t\t\t\tend\n",
    "\t\t\t\tend\n",
    "\t\t\t\tappend!(larmodel[k],[outcell])\n",
    "\t\t\tend\n",
    "\t\tend\n",
    "\tend\n",
    "\treturn larmodel,W\n",
    "end"
   ]
  },
  {
   "cell_type": "code",
   "execution_count": 13,
   "id": "a8d9af54",
   "metadata": {},
   "outputs": [
    {
     "data": {
      "text/plain": [
       "BenchmarkTools.Trial: 10000 samples with 3 evaluations.\n",
       " Range \u001b[90m(\u001b[39m\u001b[36m\u001b[1mmin\u001b[22m\u001b[39m … \u001b[35mmax\u001b[39m\u001b[90m):  \u001b[39m\u001b[36m\u001b[1m 8.567 μs\u001b[22m\u001b[39m … \u001b[35m244.700 μs\u001b[39m  \u001b[90m┊\u001b[39m GC \u001b[90m(\u001b[39mmin … max\u001b[90m): \u001b[39m0.00% … 0.00%\n",
       " Time  \u001b[90m(\u001b[39m\u001b[34m\u001b[1mmedian\u001b[22m\u001b[39m\u001b[90m):     \u001b[39m\u001b[34m\u001b[1m11.100 μs               \u001b[22m\u001b[39m\u001b[90m┊\u001b[39m GC \u001b[90m(\u001b[39mmedian\u001b[90m):    \u001b[39m0.00%\n",
       " Time  \u001b[90m(\u001b[39m\u001b[32m\u001b[1mmean\u001b[22m\u001b[39m ± \u001b[32mσ\u001b[39m\u001b[90m):   \u001b[39m\u001b[32m\u001b[1m12.390 μs\u001b[22m\u001b[39m ± \u001b[32m  6.694 μs\u001b[39m  \u001b[90m┊\u001b[39m GC \u001b[90m(\u001b[39mmean ± σ\u001b[90m):  \u001b[39m0.00% ± 0.00%\n",
       "\n",
       "  \u001b[39m \u001b[39m \u001b[39m▆\u001b[39m▆\u001b[39m█\u001b[39m▆\u001b[34m▃\u001b[39m\u001b[39m▂\u001b[32m \u001b[39m\u001b[39m \u001b[39m \u001b[39m \u001b[39m \u001b[39m \u001b[39m \u001b[39m \u001b[39m \u001b[39m \u001b[39m \u001b[39m \u001b[39m \u001b[39m \u001b[39m \u001b[39m \u001b[39m \u001b[39m \u001b[39m \u001b[39m \u001b[39m \u001b[39m \u001b[39m \u001b[39m \u001b[39m \u001b[39m \u001b[39m \u001b[39m \u001b[39m \u001b[39m \u001b[39m \u001b[39m \u001b[39m \u001b[39m \u001b[39m \u001b[39m \u001b[39m \u001b[39m \u001b[39m \u001b[39m \u001b[39m \u001b[39m \u001b[39m \u001b[39m \u001b[39m \u001b[39m \u001b[39m \u001b[39m \u001b[39m \u001b[39m \u001b[39m \u001b[39m \u001b[39m \u001b[39m \n",
       "  \u001b[39m▄\u001b[39m█\u001b[39m█\u001b[39m█\u001b[39m█\u001b[39m█\u001b[34m█\u001b[39m\u001b[39m█\u001b[32m█\u001b[39m\u001b[39m▅\u001b[39m▅\u001b[39m▄\u001b[39m▃\u001b[39m▃\u001b[39m▂\u001b[39m▂\u001b[39m▂\u001b[39m▁\u001b[39m▁\u001b[39m▁\u001b[39m▁\u001b[39m▁\u001b[39m▁\u001b[39m▁\u001b[39m▁\u001b[39m▁\u001b[39m▁\u001b[39m▁\u001b[39m▁\u001b[39m▁\u001b[39m▁\u001b[39m▁\u001b[39m▁\u001b[39m▁\u001b[39m▁\u001b[39m▁\u001b[39m▁\u001b[39m▁\u001b[39m▁\u001b[39m▁\u001b[39m▁\u001b[39m▁\u001b[39m▁\u001b[39m▁\u001b[39m▁\u001b[39m▁\u001b[39m▁\u001b[39m▁\u001b[39m▁\u001b[39m▁\u001b[39m▁\u001b[39m▁\u001b[39m▁\u001b[39m▁\u001b[39m▁\u001b[39m▁\u001b[39m▁\u001b[39m▁\u001b[39m▁\u001b[39m▁\u001b[39m \u001b[39m▂\n",
       "  8.57 μs\u001b[90m         Histogram: frequency by time\u001b[39m         35.9 μs \u001b[0m\u001b[1m<\u001b[22m\n",
       "\n",
       " Memory estimate\u001b[90m: \u001b[39m\u001b[33m4.53 KiB\u001b[39m, allocs estimate\u001b[90m: \u001b[39m\u001b[33m55\u001b[39m."
      ]
     },
     "execution_count": 13,
     "metadata": {},
     "output_type": "execute_result"
    }
   ],
   "source": [
    "@benchmark struct2larasy(structure)"
   ]
  },
  {
   "cell_type": "markdown",
   "id": "83db72c2",
   "metadata": {},
   "source": [
    "## when using simd in support we improve the range (the max time is reduced) and a small improvment on the mean time"
   ]
  },
  {
   "cell_type": "code",
   "execution_count": 14,
   "id": "9c51b621",
   "metadata": {},
   "outputs": [
    {
     "data": {
      "text/plain": [
       "struct2larsimd (generic function with 1 method)"
      ]
     },
     "execution_count": 14,
     "metadata": {},
     "output_type": "execute_result"
    }
   ],
   "source": [
    "function struct2larsimd(structure) \n",
    "\tlarmodel,W = flatsimd(Lar.evalStruct(structure))\n",
    "\tappend!(larmodel[1], W)\n",
    "\tV = hcat(larmodel[1]...)\n",
    "\tchains = [convert(Lar.Cells, chain) for chain in larmodel[2:end]]\n",
    "\treturn (V, chains...)\n",
    "end"
   ]
  },
  {
   "cell_type": "code",
   "execution_count": 15,
   "id": "57e9c0ff",
   "metadata": {},
   "outputs": [
    {
     "data": {
      "text/plain": [
       "flatsimd (generic function with 1 method)"
      ]
     },
     "execution_count": 15,
     "metadata": {},
     "output_type": "execute_result"
    }
   ],
   "source": [
    "function flatsimd(listOfModels)\n",
    "\tW = Array{Float64,1}[]\n",
    "\tm = length(listOfModels[1])\n",
    "\tlarmodel = [Array{Float64,1}[] for k=1:m]\n",
    "\tvertDict = Dict()\n",
    "\tindex,defaultValue = 0,0\n",
    "\t@async for model in listOfModels\n",
    "\t\tV = model[1]\n",
    "\t\t@simd for k=2:m\n",
    "\t\t\t  for incell in model[k]\n",
    "\t\t\t\toutcell=[]\n",
    "\t\t\t\t @async for v in incell\n",
    "\t\t\t\t\t key = map(Lar.approxVal(7), V[:,v])\n",
    "\t\t\t\t\tif get(vertDict,key,defaultValue)==defaultValue\n",
    "\t\t\t\t\t\tindex += 1\n",
    "\t\t\t\t\t\tvertDict[key]=index\n",
    "\t\t\t\t\t\tpush!(outcell,index)\n",
    "\t\t\t\t\t\tpush!(W,key)\n",
    "\t\t\t\t\telse\n",
    "\t\t\t\t\t\tpush!(outcell,vertDict[key])\n",
    "\t\t\t\t\tend\n",
    "\t\t\t\tend\n",
    "\t\t\t\tappend!(larmodel[k],[outcell])\n",
    "\t\t\tend\n",
    "\t\tend\n",
    "\tend\n",
    "\treturn larmodel,W\n",
    "end"
   ]
  },
  {
   "cell_type": "code",
   "execution_count": 16,
   "id": "5bb7b6e6",
   "metadata": {},
   "outputs": [
    {
     "data": {
      "text/plain": [
       "BenchmarkTools.Trial: 10000 samples with 3 evaluations.\n",
       " Range \u001b[90m(\u001b[39m\u001b[36m\u001b[1mmin\u001b[22m\u001b[39m … \u001b[35mmax\u001b[39m\u001b[90m):  \u001b[39m\u001b[36m\u001b[1m 8.700 μs\u001b[22m\u001b[39m … \u001b[35m108.067 μs\u001b[39m  \u001b[90m┊\u001b[39m GC \u001b[90m(\u001b[39mmin … max\u001b[90m): \u001b[39m0.00% … 0.00%\n",
       " Time  \u001b[90m(\u001b[39m\u001b[34m\u001b[1mmedian\u001b[22m\u001b[39m\u001b[90m):     \u001b[39m\u001b[34m\u001b[1m11.167 μs               \u001b[22m\u001b[39m\u001b[90m┊\u001b[39m GC \u001b[90m(\u001b[39mmedian\u001b[90m):    \u001b[39m0.00%\n",
       " Time  \u001b[90m(\u001b[39m\u001b[32m\u001b[1mmean\u001b[22m\u001b[39m ± \u001b[32mσ\u001b[39m\u001b[90m):   \u001b[39m\u001b[32m\u001b[1m12.145 μs\u001b[22m\u001b[39m ± \u001b[32m  4.385 μs\u001b[39m  \u001b[90m┊\u001b[39m GC \u001b[90m(\u001b[39mmean ± σ\u001b[90m):  \u001b[39m0.00% ± 0.00%\n",
       "\n",
       "  \u001b[39m \u001b[39m \u001b[39m▃\u001b[39m▆\u001b[39m▇\u001b[39m█\u001b[39m▆\u001b[34m▄\u001b[39m\u001b[39m▃\u001b[32m \u001b[39m\u001b[39m \u001b[39m \u001b[39m \u001b[39m \u001b[39m \u001b[39m \u001b[39m \u001b[39m \u001b[39m \u001b[39m \u001b[39m \u001b[39m \u001b[39m \u001b[39m \u001b[39m \u001b[39m \u001b[39m \u001b[39m \u001b[39m \u001b[39m \u001b[39m \u001b[39m \u001b[39m \u001b[39m \u001b[39m \u001b[39m \u001b[39m \u001b[39m \u001b[39m \u001b[39m \u001b[39m \u001b[39m \u001b[39m \u001b[39m \u001b[39m \u001b[39m \u001b[39m \u001b[39m \u001b[39m \u001b[39m \u001b[39m \u001b[39m \u001b[39m \u001b[39m \u001b[39m \u001b[39m \u001b[39m \u001b[39m \u001b[39m \u001b[39m \u001b[39m \u001b[39m \n",
       "  \u001b[39m▄\u001b[39m▇\u001b[39m█\u001b[39m█\u001b[39m█\u001b[39m█\u001b[39m█\u001b[34m█\u001b[39m\u001b[39m█\u001b[32m█\u001b[39m\u001b[39m▇\u001b[39m▆\u001b[39m▅\u001b[39m▄\u001b[39m▃\u001b[39m▃\u001b[39m▃\u001b[39m▂\u001b[39m▂\u001b[39m▂\u001b[39m▂\u001b[39m▁\u001b[39m▁\u001b[39m▁\u001b[39m▁\u001b[39m▁\u001b[39m▁\u001b[39m▁\u001b[39m▁\u001b[39m▁\u001b[39m▁\u001b[39m▁\u001b[39m▁\u001b[39m▁\u001b[39m▁\u001b[39m▁\u001b[39m▁\u001b[39m▁\u001b[39m▁\u001b[39m▁\u001b[39m▁\u001b[39m▁\u001b[39m▁\u001b[39m▁\u001b[39m▁\u001b[39m▁\u001b[39m▁\u001b[39m▁\u001b[39m▁\u001b[39m▁\u001b[39m▁\u001b[39m▁\u001b[39m▁\u001b[39m▁\u001b[39m▁\u001b[39m▁\u001b[39m▁\u001b[39m▁\u001b[39m▁\u001b[39m▁\u001b[39m \u001b[39m▂\n",
       "  8.7 μs\u001b[90m          Histogram: frequency by time\u001b[39m         31.4 μs \u001b[0m\u001b[1m<\u001b[22m\n",
       "\n",
       " Memory estimate\u001b[90m: \u001b[39m\u001b[33m4.53 KiB\u001b[39m, allocs estimate\u001b[90m: \u001b[39m\u001b[33m55\u001b[39m."
      ]
     },
     "execution_count": 16,
     "metadata": {},
     "output_type": "execute_result"
    }
   ],
   "source": [
    "@benchmark struct2larsimd(structure)"
   ]
  },
  {
   "cell_type": "code",
   "execution_count": 17,
   "id": "ff5e91cc",
   "metadata": {},
   "outputs": [
    {
     "data": {
      "text/plain": [
       "struct2larthread (generic function with 1 method)"
      ]
     },
     "execution_count": 17,
     "metadata": {},
     "output_type": "execute_result"
    }
   ],
   "source": [
    "function struct2larthread(structure) \n",
    "\tlarmodel,W = flatthread(Lar.evalStruct(structure))\n",
    "\tappend!(larmodel[1], W)\n",
    "\tV = hcat(larmodel[1]...)\n",
    "\tchains = [convert(Lar.Cells, chain) for chain in larmodel[2:end]]\n",
    "\treturn (V, chains...)\n",
    "end"
   ]
  },
  {
   "cell_type": "code",
   "execution_count": 18,
   "id": "d87d12eb",
   "metadata": {},
   "outputs": [
    {
     "data": {
      "text/plain": [
       "flatthread (generic function with 1 method)"
      ]
     },
     "execution_count": 18,
     "metadata": {},
     "output_type": "execute_result"
    }
   ],
   "source": [
    "function flatthread(listOfModels)\n",
    "\tW = Array{Float64,1}[]\n",
    "\tm = length(listOfModels[1])\n",
    "\tlarmodel = [Array{Float64,1}[] for k=1:m]\n",
    "\tvertDict = Dict()\n",
    "\tindex,defaultValue = 0,0\n",
    "\t@async for model in listOfModels\n",
    "\t\tV = model[1]\n",
    "\t\tThreads.@spawn for k=2:m\n",
    "\t\t\t @async for incell in model[k]\n",
    "\t\t\t\toutcell=[]\n",
    "\t\t\t\t  @async for v in incell\n",
    "\t\t\t\t\t key = map(Lar.approxVal(7), V[:,v])\n",
    "\t\t\t\t\tif get(vertDict,key,defaultValue)==defaultValue\n",
    "\t\t\t\t\t\tindex += 1\n",
    "\t\t\t\t\t\tvertDict[key]=index\n",
    "\t\t\t\t\t\tpush!(outcell,index)\n",
    "\t\t\t\t\t\tpush!(W,key)\n",
    "\t\t\t\t\telse\n",
    "\t\t\t\t\t\tpush!(outcell,vertDict[key])\n",
    "\t\t\t\t\tend\n",
    "\t\t\t\tend\n",
    "\t\t\t\tappend!(larmodel[k],[outcell])\n",
    "\t\t\tend\n",
    "\t\tend\n",
    "\tend\n",
    "\treturn larmodel,W\n",
    "end"
   ]
  },
  {
   "cell_type": "code",
   "execution_count": 19,
   "id": "66ead3f6",
   "metadata": {},
   "outputs": [
    {
     "data": {
      "text/plain": [
       "BenchmarkTools.Trial: 10000 samples with 3 evaluations.\n",
       " Range \u001b[90m(\u001b[39m\u001b[36m\u001b[1mmin\u001b[22m\u001b[39m … \u001b[35mmax\u001b[39m\u001b[90m):  \u001b[39m\u001b[36m\u001b[1m 8.667 μs\u001b[22m\u001b[39m … \u001b[35m245.200 μs\u001b[39m  \u001b[90m┊\u001b[39m GC \u001b[90m(\u001b[39mmin … max\u001b[90m): \u001b[39m0.00% … 0.00%\n",
       " Time  \u001b[90m(\u001b[39m\u001b[34m\u001b[1mmedian\u001b[22m\u001b[39m\u001b[90m):     \u001b[39m\u001b[34m\u001b[1m11.433 μs               \u001b[22m\u001b[39m\u001b[90m┊\u001b[39m GC \u001b[90m(\u001b[39mmedian\u001b[90m):    \u001b[39m0.00%\n",
       " Time  \u001b[90m(\u001b[39m\u001b[32m\u001b[1mmean\u001b[22m\u001b[39m ± \u001b[32mσ\u001b[39m\u001b[90m):   \u001b[39m\u001b[32m\u001b[1m12.068 μs\u001b[22m\u001b[39m ± \u001b[32m  3.570 μs\u001b[39m  \u001b[90m┊\u001b[39m GC \u001b[90m(\u001b[39mmean ± σ\u001b[90m):  \u001b[39m0.00% ± 0.00%\n",
       "\n",
       "  \u001b[39m \u001b[39m \u001b[39m \u001b[39m \u001b[39m▂\u001b[39m \u001b[39m▄\u001b[39m▆\u001b[39m▄\u001b[39m█\u001b[39m▄\u001b[39m▄\u001b[34m▃\u001b[39m\u001b[39m▃\u001b[32m▂\u001b[39m\u001b[39m \u001b[39m \u001b[39m \u001b[39m \u001b[39m \u001b[39m \u001b[39m \u001b[39m \u001b[39m \u001b[39m \u001b[39m \u001b[39m \u001b[39m \u001b[39m \u001b[39m \u001b[39m \u001b[39m \u001b[39m \u001b[39m \u001b[39m \u001b[39m \u001b[39m \u001b[39m \u001b[39m \u001b[39m \u001b[39m \u001b[39m \u001b[39m \u001b[39m \u001b[39m \u001b[39m \u001b[39m \u001b[39m \u001b[39m \u001b[39m \u001b[39m \u001b[39m \u001b[39m \u001b[39m \u001b[39m \u001b[39m \u001b[39m \u001b[39m \u001b[39m \u001b[39m \u001b[39m \u001b[39m \n",
       "  \u001b[39m▂\u001b[39m▃\u001b[39m▄\u001b[39m▆\u001b[39m█\u001b[39m█\u001b[39m█\u001b[39m█\u001b[39m█\u001b[39m█\u001b[39m█\u001b[39m█\u001b[34m█\u001b[39m\u001b[39m█\u001b[32m█\u001b[39m\u001b[39m█\u001b[39m▇\u001b[39m▆\u001b[39m▆\u001b[39m▆\u001b[39m▄\u001b[39m▄\u001b[39m▃\u001b[39m▄\u001b[39m▃\u001b[39m▃\u001b[39m▃\u001b[39m▃\u001b[39m▂\u001b[39m▂\u001b[39m▂\u001b[39m▂\u001b[39m▂\u001b[39m▂\u001b[39m▂\u001b[39m▁\u001b[39m▂\u001b[39m▁\u001b[39m▁\u001b[39m▁\u001b[39m▁\u001b[39m▁\u001b[39m▁\u001b[39m▁\u001b[39m▁\u001b[39m▁\u001b[39m▁\u001b[39m▁\u001b[39m▁\u001b[39m▁\u001b[39m▁\u001b[39m▁\u001b[39m▁\u001b[39m▁\u001b[39m▁\u001b[39m▁\u001b[39m▁\u001b[39m▁\u001b[39m▁\u001b[39m▁\u001b[39m \u001b[39m▃\n",
       "  8.67 μs\u001b[90m         Histogram: frequency by time\u001b[39m         23.1 μs \u001b[0m\u001b[1m<\u001b[22m\n",
       "\n",
       " Memory estimate\u001b[90m: \u001b[39m\u001b[33m4.53 KiB\u001b[39m, allocs estimate\u001b[90m: \u001b[39m\u001b[33m55\u001b[39m."
      ]
     },
     "execution_count": 19,
     "metadata": {},
     "output_type": "execute_result"
    }
   ],
   "source": [
    "@benchmark struct2larthread(structure)"
   ]
  },
  {
   "cell_type": "code",
   "execution_count": null,
   "id": "5cabda4c",
   "metadata": {},
   "outputs": [],
   "source": []
  }
 ],
 "metadata": {
  "kernelspec": {
   "display_name": "Julia 1.6.5",
   "language": "julia",
   "name": "julia-1.6"
  },
  "language_info": {
   "file_extension": ".jl",
   "mimetype": "application/julia",
   "name": "julia",
   "version": "1.6.5"
  }
 },
 "nbformat": 4,
 "nbformat_minor": 5
}
