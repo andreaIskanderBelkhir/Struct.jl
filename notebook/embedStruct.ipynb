{
 "cells": [
  {
   "cell_type": "code",
   "execution_count": 1,
   "id": "1630b5f7",
   "metadata": {},
   "outputs": [
    {
     "data": {
      "text/plain": [
       "LinearAlgebraicRepresentation"
      ]
     },
     "execution_count": 1,
     "metadata": {},
     "output_type": "execute_result"
    }
   ],
   "source": [
    "using BenchmarkTools\n",
    "using LinearAlgebra\n",
    "using LinearAlgebraicRepresentation\n",
    "Lar = LinearAlgebraicRepresentation"
   ]
  },
  {
   "cell_type": "markdown",
   "id": "d80ac247",
   "metadata": {},
   "source": [
    "# Embededstruct(int)"
   ]
  },
  {
   "cell_type": "markdown",
   "id": "1084b81a",
   "metadata": {},
   "source": [
    "its used to cast embededstruct0 as currying funcion(typical funcional programming EmbededStruct(int)(Struct,String=\"new\"))"
   ]
  },
  {
   "cell_type": "markdown",
   "id": "d80c4fe1",
   "metadata": {},
   "source": [
    "# EmbededStruct0(self::STruct,suffix::string=\"new\")"
   ]
  },
  {
   "cell_type": "markdown",
   "id": "a7b61f6b",
   "metadata": {},
   "source": [
    "it creates a copy of the self arg and it change the dimension with a factor of \"n\" and also append the suffix \"new\" on the name.and at the end return this copy"
   ]
  },
  {
   "cell_type": "code",
   "execution_count": 2,
   "id": "7e3c6e84",
   "metadata": {},
   "outputs": [
    {
     "data": {
      "text/plain": [
       "([0.0 0.0 1.0 1.0; 0.0 1.0 0.0 1.0], [[1, 2, 3, 4]])"
      ]
     },
     "execution_count": 2,
     "metadata": {},
     "output_type": "execute_result"
    }
   ],
   "source": [
    "square = Lar.cuboid([1,1])"
   ]
  },
  {
   "cell_type": "code",
   "execution_count": 3,
   "id": "e9ebf626",
   "metadata": {},
   "outputs": [
    {
     "data": {
      "text/plain": [
       "LinearAlgebraicRepresentation.Struct([([0.0 0.0 1.0 1.0; 0.0 1.0 0.0 1.0], [[1, 2, 3, 4]])], [[0.0; 0.0], [1.0; 1.0]], \"1650282856260198147\", 2, \"feature\")"
      ]
     },
     "execution_count": 3,
     "metadata": {},
     "output_type": "execute_result"
    }
   ],
   "source": [
    "x = Lar.Struct([square])"
   ]
  },
  {
   "cell_type": "code",
   "execution_count": 4,
   "id": "b98b4c8c",
   "metadata": {},
   "outputs": [
    {
     "data": {
      "text/plain": [
       "embedStruct (generic function with 1 method)"
      ]
     },
     "execution_count": 4,
     "metadata": {},
     "output_type": "execute_result"
    }
   ],
   "source": [
    "function embedStruct(n::Int)\n",
    "\tfunction embedStruct0(self::Lar.Struct,suffix::String=\"New\")\n",
    "\t\tif n==0\n",
    "\t\t\treturn self, length(self.box[1])\n",
    "\t\tend\n",
    "\t\tcloned = Lar.Struct()\n",
    "\t\tcloned.box = [ [self.body[i].box[1];zeros(dimadd)],\n",
    "\t\t\t\t\t\t[self.body[i].box[2];zeros(dimadd)] ]\n",
    "\t\tcloned.name = self.name*suffix\n",
    "\t\tcloned.category = self.category\n",
    "\t\tcloned.dim = self.dim+n\n",
    "\t\tcloned = Lar.embedTraversal(cloned,self,n,suffix)\n",
    "\t\treturn cloned\n",
    "\tend\n",
    "\treturn embedStruct0\n",
    "end\n",
    "\n"
   ]
  },
  {
   "cell_type": "code",
   "execution_count": 7,
   "id": "f9d0902d",
   "metadata": {},
   "outputs": [
    {
     "ename": "LoadError",
     "evalue": "UndefVarError: i not defined",
     "output_type": "error",
     "traceback": [
      "UndefVarError: i not defined",
      "",
      "Stacktrace:",
      "  [1] (::var\"#embedStruct0#1\"{Int64})(self::LinearAlgebraicRepresentation.Struct, suffix::String)",
      "    @ Main .\\In[4]:9",
      "  [2] embedStruct0",
      "    @ .\\In[4]:5 [inlined]",
      "  [3] var\"##core#278\"()",
      "    @ Main C:\\Users\\andre\\.julia\\packages\\BenchmarkTools\\7xSXH\\src\\execution.jl:489",
      "  [4] var\"##sample#279\"(::Tuple{}, __params::BenchmarkTools.Parameters)",
      "    @ Main C:\\Users\\andre\\.julia\\packages\\BenchmarkTools\\7xSXH\\src\\execution.jl:495",
      "  [5] _run(b::BenchmarkTools.Benchmark, p::BenchmarkTools.Parameters; verbose::Bool, pad::String, kwargs::Base.Iterators.Pairs{Symbol, Integer, NTuple{4, Symbol}, NamedTuple{(:samples, :evals, :gctrial, :gcsample), Tuple{Int64, Int64, Bool, Bool}}})",
      "    @ BenchmarkTools C:\\Users\\andre\\.julia\\packages\\BenchmarkTools\\7xSXH\\src\\execution.jl:99",
      "  [6] #invokelatest#2",
      "    @ .\\essentials.jl:710 [inlined]",
      "  [7] #run_result#45",
      "    @ C:\\Users\\andre\\.julia\\packages\\BenchmarkTools\\7xSXH\\src\\execution.jl:34 [inlined]",
      "  [8] run(b::BenchmarkTools.Benchmark, p::BenchmarkTools.Parameters; progressid::Nothing, nleaves::Float64, ndone::Float64, kwargs::Base.Iterators.Pairs{Symbol, Integer, NTuple{5, Symbol}, NamedTuple{(:verbose, :samples, :evals, :gctrial, :gcsample), Tuple{Bool, Int64, Int64, Bool, Bool}}})",
      "    @ BenchmarkTools C:\\Users\\andre\\.julia\\packages\\BenchmarkTools\\7xSXH\\src\\execution.jl:117",
      "  [9] #warmup#54",
      "    @ C:\\Users\\andre\\.julia\\packages\\BenchmarkTools\\7xSXH\\src\\execution.jl:169 [inlined]",
      " [10] warmup(item::BenchmarkTools.Benchmark)",
      "    @ BenchmarkTools C:\\Users\\andre\\.julia\\packages\\BenchmarkTools\\7xSXH\\src\\execution.jl:169",
      " [11] top-level scope",
      "    @ C:\\Users\\andre\\.julia\\packages\\BenchmarkTools\\7xSXH\\src\\execution.jl:575",
      " [12] eval",
      "    @ .\\boot.jl:360 [inlined]",
      " [13] include_string(mapexpr::typeof(REPL.softscope), mod::Module, code::String, filename::String)",
      "    @ Base .\\loading.jl:1116"
     ]
    }
   ],
   "source": [
    "@btime embedStruct(1)(x)\n",
    "#error cus it need to be debugged"
   ]
  },
  {
   "cell_type": "code",
   "execution_count": null,
   "id": "f812aa17",
   "metadata": {},
   "outputs": [],
   "source": []
  }
 ],
 "metadata": {
  "kernelspec": {
   "display_name": "Julia 1.6.5",
   "language": "julia",
   "name": "julia-1.6"
  },
  "language_info": {
   "file_extension": ".jl",
   "mimetype": "application/julia",
   "name": "julia",
   "version": "1.6.5"
  }
 },
 "nbformat": 4,
 "nbformat_minor": 5
}
