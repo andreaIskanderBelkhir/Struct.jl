{
 "cells": [
  {
   "cell_type": "code",
   "execution_count": 1,
   "id": "38413381",
   "metadata": {},
   "outputs": [],
   "source": [
    "using BenchmarkTools\n",
    "using LinearAlgebra\n",
    "using StaticArrays "
   ]
  },
  {
   "cell_type": "markdown",
   "id": "26b49171",
   "metadata": {},
   "source": [
    "# S(arg)"
   ]
  },
  {
   "cell_type": "markdown",
   "id": "99b8cb22",
   "metadata": {},
   "source": [
    "it generate (and return)a scaling matrix. the returned matrix have d+1 row and column where d is the lenght of the array passed as arg"
   ]
  },
  {
   "cell_type": "code",
   "execution_count": 3,
   "id": "03be3369",
   "metadata": {},
   "outputs": [
    {
     "data": {
      "text/plain": [
       "s (generic function with 1 method)"
      ]
     },
     "execution_count": 3,
     "metadata": {},
     "output_type": "execute_result"
    }
   ],
   "source": [
    "function s(args...)\n",
    "\td = length(args)\n",
    "\tmat = Matrix{Float64}(LinearAlgebra.I, d+1, d+1)\n",
    "\tfor k in range(1, length=d)\n",
    "\t\tmat[k,k]=args[k]\n",
    "\tend\n",
    "\treturn mat\n",
    "end"
   ]
  },
  {
   "cell_type": "code",
   "execution_count": 4,
   "id": "3adb22e7",
   "metadata": {},
   "outputs": [
    {
     "name": "stdout",
     "output_type": "stream",
     "text": [
      "  44.141 ns (1 allocation: 160 bytes)\n"
     ]
    },
    {
     "data": {
      "text/plain": [
       "3×3 Matrix{Float64}:\n",
       " -0.5   0.0  0.0\n",
       "  0.0  -0.5  0.0\n",
       "  0.0   0.0  1.0"
      ]
     },
     "execution_count": 4,
     "metadata": {},
     "output_type": "execute_result"
    }
   ],
   "source": [
    "@btime s(-0.5,-0.5)"
   ]
  },
  {
   "cell_type": "code",
   "execution_count": 4,
   "id": "822ed10d",
   "metadata": {},
   "outputs": [
    {
     "name": "stdout",
     "output_type": "stream",
     "text": [
      "\u001b[90m;  @ In[2]:1 within `s'\u001b[39m\n",
      "\u001b[90m; Function Attrs: uwtable\u001b[39m\n",
      "\u001b[95mdefine\u001b[39m \u001b[95mnonnull\u001b[39m \u001b[33m{\u001b[39m\u001b[33m}\u001b[39m\u001b[0m* \u001b[93m@julia_s_1803\u001b[39m\u001b[33m(\u001b[39m\u001b[36mdouble\u001b[39m \u001b[0m%0\u001b[0m, \u001b[36mdouble\u001b[39m \u001b[0m%1\u001b[33m)\u001b[39m \u001b[0m#0 \u001b[33m{\u001b[39m\n",
      "\u001b[91mpass:\u001b[39m\n",
      "\u001b[90m;  @ In[2]:3 within `s'\u001b[39m\n",
      "\u001b[90m; ┌ @ C:\\buildbot\\worker\\package_win64\\build\\usr\\share\\julia\\stdlib\\v1.6\\LinearAlgebra\\src\\uniformscaling.jl:471 within `Array'\u001b[39m\n",
      "   \u001b[0m%2 \u001b[0m= \u001b[96m\u001b[1mcall\u001b[22m\u001b[39m \u001b[95mnonnull\u001b[39m \u001b[33m{\u001b[39m\u001b[33m}\u001b[39m\u001b[0m* \u001b[93m@j_Array_1805\u001b[39m\u001b[33m(\u001b[39m\u001b[33m[\u001b[39m\u001b[33m1\u001b[39m \u001b[0mx \u001b[36mi8\u001b[39m\u001b[33m]\u001b[39m\u001b[0m* \u001b[95mnocapture\u001b[39m \u001b[95mreadonly\u001b[39m \u001b[93m@_j_const1\u001b[39m\u001b[0m, \u001b[33m[\u001b[39m\u001b[33m2\u001b[39m \u001b[0mx \u001b[36mi64\u001b[39m\u001b[33m]\u001b[39m\u001b[0m* \u001b[95mnocapture\u001b[39m \u001b[95mreadonly\u001b[39m \u001b[93m@_j_const2\u001b[39m\u001b[33m)\u001b[39m \u001b[0m#0\n",
      "\u001b[90m; └\u001b[39m\n",
      "\u001b[90m;  @ In[2]:5 within `s'\u001b[39m\n",
      "\u001b[90m; ┌ @ array.jl within `setindex!'\u001b[39m\n",
      "   \u001b[0m%3 \u001b[0m= \u001b[96m\u001b[1mbitcast\u001b[22m\u001b[39m \u001b[33m{\u001b[39m\u001b[33m}\u001b[39m\u001b[0m* \u001b[0m%2 \u001b[95mto\u001b[39m \u001b[33m{\u001b[39m\u001b[33m}\u001b[39m\u001b[0m**\n",
      "   \u001b[0m%4 \u001b[0m= \u001b[96m\u001b[1mbitcast\u001b[22m\u001b[39m \u001b[33m{\u001b[39m\u001b[33m}\u001b[39m\u001b[0m* \u001b[0m%2 \u001b[95mto\u001b[39m \u001b[36mdouble\u001b[39m\u001b[0m**\n",
      "   \u001b[0m%5 \u001b[0m= \u001b[96m\u001b[1mgetelementptr\u001b[22m\u001b[39m \u001b[95minbounds\u001b[39m \u001b[33m{\u001b[39m\u001b[33m}\u001b[39m\u001b[0m*\u001b[0m, \u001b[33m{\u001b[39m\u001b[33m}\u001b[39m\u001b[0m** \u001b[0m%3\u001b[0m, \u001b[36mi64\u001b[39m \u001b[33m3\u001b[39m\n",
      "   \u001b[0m%6 \u001b[0m= \u001b[96m\u001b[1mbitcast\u001b[22m\u001b[39m \u001b[33m{\u001b[39m\u001b[33m}\u001b[39m\u001b[0m** \u001b[0m%5 \u001b[95mto\u001b[39m \u001b[36mi64\u001b[39m\u001b[0m*\n",
      "\u001b[90m; └\u001b[39m\n",
      "\u001b[90m; ┌ @ array.jl:845 within `setindex!'\u001b[39m\n",
      "   \u001b[0m%7 \u001b[0m= \u001b[96m\u001b[1mload\u001b[22m\u001b[39m \u001b[36mi64\u001b[39m\u001b[0m, \u001b[36mi64\u001b[39m\u001b[0m* \u001b[0m%6\u001b[0m, \u001b[95malign\u001b[39m \u001b[33m8\u001b[39m\n",
      "   \u001b[0m%.not \u001b[0m= \u001b[96m\u001b[1micmp\u001b[22m\u001b[39m \u001b[96m\u001b[1meq\u001b[22m\u001b[39m \u001b[36mi64\u001b[39m \u001b[0m%7\u001b[0m, \u001b[33m0\u001b[39m\n",
      "   \u001b[96m\u001b[1mbr\u001b[22m\u001b[39m \u001b[36mi1\u001b[39m \u001b[0m%.not\u001b[0m, \u001b[36mlabel\u001b[39m \u001b[91m%oob\u001b[39m\u001b[0m, \u001b[36mlabel\u001b[39m \u001b[91m%ib\u001b[39m\n",
      "\n",
      "\u001b[91mib:\u001b[39m                                               \u001b[90m; preds = %pass\u001b[39m\n",
      "\u001b[90m; └\u001b[39m\n",
      "\u001b[90m; ┌ @ array.jl within `setindex!'\u001b[39m\n",
      "   \u001b[0m%8 \u001b[0m= \u001b[96m\u001b[1mgetelementptr\u001b[22m\u001b[39m \u001b[95minbounds\u001b[39m \u001b[33m{\u001b[39m\u001b[33m}\u001b[39m\u001b[0m*\u001b[0m, \u001b[33m{\u001b[39m\u001b[33m}\u001b[39m\u001b[0m** \u001b[0m%3\u001b[0m, \u001b[36mi64\u001b[39m \u001b[33m4\u001b[39m\n",
      "   \u001b[0m%9 \u001b[0m= \u001b[96m\u001b[1mbitcast\u001b[22m\u001b[39m \u001b[33m{\u001b[39m\u001b[33m}\u001b[39m\u001b[0m** \u001b[0m%8 \u001b[95mto\u001b[39m \u001b[36mi64\u001b[39m\u001b[0m*\n",
      "\u001b[90m; └\u001b[39m\n",
      "\u001b[90m; ┌ @ array.jl:845 within `setindex!'\u001b[39m\n",
      "   \u001b[0m%10 \u001b[0m= \u001b[96m\u001b[1mload\u001b[22m\u001b[39m \u001b[36mi64\u001b[39m\u001b[0m, \u001b[36mi64\u001b[39m\u001b[0m* \u001b[0m%9\u001b[0m, \u001b[95malign\u001b[39m \u001b[33m8\u001b[39m\n",
      "   \u001b[0m%.not11 \u001b[0m= \u001b[96m\u001b[1micmp\u001b[22m\u001b[39m \u001b[96m\u001b[1meq\u001b[22m\u001b[39m \u001b[36mi64\u001b[39m \u001b[0m%10\u001b[0m, \u001b[33m0\u001b[39m\n",
      "   \u001b[96m\u001b[1mbr\u001b[22m\u001b[39m \u001b[36mi1\u001b[39m \u001b[0m%.not11\u001b[0m, \u001b[36mlabel\u001b[39m \u001b[91m%oob\u001b[39m\u001b[0m, \u001b[36mlabel\u001b[39m \u001b[91m%pass.1\u001b[39m\n",
      "\n",
      "\u001b[91moob:\u001b[39m                                              \u001b[90m; preds = %pass.1, %ib, %pass\u001b[39m\n",
      "   \u001b[0m%value_phi1.lcssa9 \u001b[0m= \u001b[96m\u001b[1mphi\u001b[22m\u001b[39m \u001b[36mi64\u001b[39m \u001b[33m[\u001b[39m \u001b[33m1\u001b[39m\u001b[0m, \u001b[91m%ib\u001b[39m \u001b[33m]\u001b[39m\u001b[0m, \u001b[33m[\u001b[39m \u001b[33m1\u001b[39m\u001b[0m, \u001b[91m%pass\u001b[39m \u001b[33m]\u001b[39m\u001b[0m, \u001b[33m[\u001b[39m \u001b[33m2\u001b[39m\u001b[0m, \u001b[91m%pass.1\u001b[39m \u001b[33m]\u001b[39m\n",
      "   \u001b[0m%11 \u001b[0m= \u001b[96m\u001b[1malloca\u001b[22m\u001b[39m \u001b[33m[\u001b[39m\u001b[33m2\u001b[39m \u001b[0mx \u001b[36mi64\u001b[39m\u001b[33m]\u001b[39m\u001b[0m, \u001b[95malign\u001b[39m \u001b[33m8\u001b[39m\n",
      "   \u001b[0m%.sub \u001b[0m= \u001b[96m\u001b[1mgetelementptr\u001b[22m\u001b[39m \u001b[95minbounds\u001b[39m \u001b[33m[\u001b[39m\u001b[33m2\u001b[39m \u001b[0mx \u001b[36mi64\u001b[39m\u001b[33m]\u001b[39m\u001b[0m, \u001b[33m[\u001b[39m\u001b[33m2\u001b[39m \u001b[0mx \u001b[36mi64\u001b[39m\u001b[33m]\u001b[39m\u001b[0m* \u001b[0m%11\u001b[0m, \u001b[36mi64\u001b[39m \u001b[33m0\u001b[39m\u001b[0m, \u001b[36mi64\u001b[39m \u001b[33m0\u001b[39m\n",
      "   \u001b[96m\u001b[1mstore\u001b[22m\u001b[39m \u001b[36mi64\u001b[39m \u001b[0m%value_phi1.lcssa9\u001b[0m, \u001b[36mi64\u001b[39m\u001b[0m* \u001b[0m%.sub\u001b[0m, \u001b[95malign\u001b[39m \u001b[33m8\u001b[39m\n",
      "   \u001b[0m%12 \u001b[0m= \u001b[96m\u001b[1mgetelementptr\u001b[22m\u001b[39m \u001b[95minbounds\u001b[39m \u001b[33m[\u001b[39m\u001b[33m2\u001b[39m \u001b[0mx \u001b[36mi64\u001b[39m\u001b[33m]\u001b[39m\u001b[0m, \u001b[33m[\u001b[39m\u001b[33m2\u001b[39m \u001b[0mx \u001b[36mi64\u001b[39m\u001b[33m]\u001b[39m\u001b[0m* \u001b[0m%11\u001b[0m, \u001b[36mi64\u001b[39m \u001b[33m0\u001b[39m\u001b[0m, \u001b[36mi64\u001b[39m \u001b[33m1\u001b[39m\n",
      "   \u001b[96m\u001b[1mstore\u001b[22m\u001b[39m \u001b[36mi64\u001b[39m \u001b[0m%value_phi1.lcssa9\u001b[0m, \u001b[36mi64\u001b[39m\u001b[0m* \u001b[0m%12\u001b[0m, \u001b[95malign\u001b[39m \u001b[33m8\u001b[39m\n",
      "   \u001b[96m\u001b[1mcall\u001b[22m\u001b[39m \u001b[36mvoid\u001b[39m \u001b[93m@jl_bounds_error_ints\u001b[39m\u001b[33m(\u001b[39m\u001b[33m{\u001b[39m\u001b[33m}\u001b[39m\u001b[0m* \u001b[0m%2\u001b[0m, \u001b[36mi64\u001b[39m\u001b[0m* \u001b[95mnonnull\u001b[39m \u001b[0m%.sub\u001b[0m, \u001b[36mi64\u001b[39m \u001b[33m2\u001b[39m\u001b[33m)\u001b[39m\n",
      "   \u001b[96m\u001b[1munreachable\u001b[22m\u001b[39m\n",
      "\n",
      "\u001b[91mpass.1:\u001b[39m                                           \u001b[90m; preds = %ib\u001b[39m\n",
      "   \u001b[0m%13 \u001b[0m= \u001b[96m\u001b[1mload\u001b[22m\u001b[39m \u001b[36mdouble\u001b[39m\u001b[0m*\u001b[0m, \u001b[36mdouble\u001b[39m\u001b[0m** \u001b[0m%4\u001b[0m, \u001b[95malign\u001b[39m \u001b[33m8\u001b[39m\n",
      "   \u001b[96m\u001b[1mstore\u001b[22m\u001b[39m \u001b[36mdouble\u001b[39m \u001b[0m%0\u001b[0m, \u001b[36mdouble\u001b[39m\u001b[0m* \u001b[0m%13\u001b[0m, \u001b[95malign\u001b[39m \u001b[33m8\u001b[39m\n",
      "   \u001b[0m%14 \u001b[0m= \u001b[96m\u001b[1micmp\u001b[22m\u001b[39m \u001b[96m\u001b[1mugt\u001b[22m\u001b[39m \u001b[36mi64\u001b[39m \u001b[0m%7\u001b[0m, \u001b[33m1\u001b[39m\n",
      "   \u001b[0m%15 \u001b[0m= \u001b[96m\u001b[1micmp\u001b[22m\u001b[39m \u001b[96m\u001b[1mne\u001b[22m\u001b[39m \u001b[36mi64\u001b[39m \u001b[0m%10\u001b[0m, \u001b[33m1\u001b[39m\n",
      "   \u001b[0m%or.cond \u001b[0m= \u001b[96m\u001b[1mand\u001b[22m\u001b[39m \u001b[36mi1\u001b[39m \u001b[0m%14\u001b[0m, \u001b[0m%15\n",
      "   \u001b[96m\u001b[1mbr\u001b[22m\u001b[39m \u001b[36mi1\u001b[39m \u001b[0m%or.cond\u001b[0m, \u001b[36mlabel\u001b[39m \u001b[91m%idxend.1\u001b[39m\u001b[0m, \u001b[36mlabel\u001b[39m \u001b[91m%oob\u001b[39m\n",
      "\n",
      "\u001b[91midxend.1:\u001b[39m                                         \u001b[90m; preds = %pass.1\u001b[39m\n",
      "   \u001b[0m%16 \u001b[0m= \u001b[96m\u001b[1madd\u001b[22m\u001b[39m \u001b[95mnuw\u001b[39m \u001b[95mnsw\u001b[39m \u001b[36mi64\u001b[39m \u001b[0m%7\u001b[0m, \u001b[33m1\u001b[39m\n",
      "   \u001b[0m%17 \u001b[0m= \u001b[96m\u001b[1mgetelementptr\u001b[22m\u001b[39m \u001b[95minbounds\u001b[39m \u001b[36mdouble\u001b[39m\u001b[0m, \u001b[36mdouble\u001b[39m\u001b[0m* \u001b[0m%13\u001b[0m, \u001b[36mi64\u001b[39m \u001b[0m%16\n",
      "   \u001b[96m\u001b[1mstore\u001b[22m\u001b[39m \u001b[36mdouble\u001b[39m \u001b[0m%1\u001b[0m, \u001b[36mdouble\u001b[39m\u001b[0m* \u001b[0m%17\u001b[0m, \u001b[95malign\u001b[39m \u001b[33m8\u001b[39m\n",
      "\u001b[90m; └\u001b[39m\n",
      "\u001b[90m;  @ In[2]:7 within `s'\u001b[39m\n",
      "  \u001b[96m\u001b[1mret\u001b[22m\u001b[39m \u001b[33m{\u001b[39m\u001b[33m}\u001b[39m\u001b[0m* \u001b[0m%2\n",
      "\u001b[33m}\u001b[39m\n"
     ]
    }
   ],
   "source": [
    "@code_llvm s(-0.5,-0.5)"
   ]
  },
  {
   "cell_type": "code",
   "execution_count": 5,
   "id": "0c75cca2",
   "metadata": {},
   "outputs": [
    {
     "data": {
      "text/plain": [
       "BenchmarkTools.Trial: 10000 samples with 985 evaluations.\n",
       " Range \u001b[90m(\u001b[39m\u001b[36m\u001b[1mmin\u001b[22m\u001b[39m … \u001b[35mmax\u001b[39m\u001b[90m):  \u001b[39m\u001b[36m\u001b[1m47.411 ns\u001b[22m\u001b[39m … \u001b[35m 1.637 μs\u001b[39m  \u001b[90m┊\u001b[39m GC \u001b[90m(\u001b[39mmin … max\u001b[90m): \u001b[39m0.00% … 0.00%\n",
       " Time  \u001b[90m(\u001b[39m\u001b[34m\u001b[1mmedian\u001b[22m\u001b[39m\u001b[90m):     \u001b[39m\u001b[34m\u001b[1m53.807 ns              \u001b[22m\u001b[39m\u001b[90m┊\u001b[39m GC \u001b[90m(\u001b[39mmedian\u001b[90m):    \u001b[39m0.00%\n",
       " Time  \u001b[90m(\u001b[39m\u001b[32m\u001b[1mmean\u001b[22m\u001b[39m ± \u001b[32mσ\u001b[39m\u001b[90m):   \u001b[39m\u001b[32m\u001b[1m68.344 ns\u001b[22m\u001b[39m ± \u001b[32m56.678 ns\u001b[39m  \u001b[90m┊\u001b[39m GC \u001b[90m(\u001b[39mmean ± σ\u001b[90m):  \u001b[39m2.72% ± 5.04%\n",
       "\n",
       "  \u001b[39m▇\u001b[39m█\u001b[34m▅\u001b[39m\u001b[39m▆\u001b[39m▄\u001b[32m▃\u001b[39m\u001b[39m▄\u001b[39m▁\u001b[39m▁\u001b[39m▂\u001b[39m \u001b[39m \u001b[39m \u001b[39m \u001b[39m \u001b[39m \u001b[39m \u001b[39m \u001b[39m \u001b[39m \u001b[39m \u001b[39m \u001b[39m \u001b[39m \u001b[39m \u001b[39m \u001b[39m \u001b[39m \u001b[39m \u001b[39m▁\u001b[39m \u001b[39m \u001b[39m \u001b[39m \u001b[39m \u001b[39m \u001b[39m \u001b[39m \u001b[39m \u001b[39m \u001b[39m \u001b[39m \u001b[39m \u001b[39m \u001b[39m \u001b[39m \u001b[39m \u001b[39m \u001b[39m \u001b[39m \u001b[39m \u001b[39m \u001b[39m \u001b[39m \u001b[39m \u001b[39m \u001b[39m \u001b[39m \u001b[39m \u001b[39m \u001b[39m▂\n",
       "  \u001b[39m█\u001b[39m█\u001b[34m█\u001b[39m\u001b[39m█\u001b[39m█\u001b[32m█\u001b[39m\u001b[39m█\u001b[39m█\u001b[39m█\u001b[39m█\u001b[39m█\u001b[39m█\u001b[39m▇\u001b[39m▇\u001b[39m▇\u001b[39m▆\u001b[39m▇\u001b[39m▇\u001b[39m▇\u001b[39m█\u001b[39m▇\u001b[39m▇\u001b[39m▇\u001b[39m▇\u001b[39m▆\u001b[39m▆\u001b[39m▅\u001b[39m▆\u001b[39m█\u001b[39m█\u001b[39m█\u001b[39m█\u001b[39m█\u001b[39m█\u001b[39m▇\u001b[39m▆\u001b[39m▇\u001b[39m▇\u001b[39m▇\u001b[39m▆\u001b[39m▆\u001b[39m▅\u001b[39m▄\u001b[39m▆\u001b[39m▆\u001b[39m▅\u001b[39m▅\u001b[39m▁\u001b[39m▁\u001b[39m▅\u001b[39m▄\u001b[39m▃\u001b[39m▄\u001b[39m▄\u001b[39m▁\u001b[39m▄\u001b[39m▃\u001b[39m▄\u001b[39m▄\u001b[39m \u001b[39m█\n",
       "  47.4 ns\u001b[90m      \u001b[39m\u001b[90mHistogram: \u001b[39m\u001b[90m\u001b[1mlog(\u001b[22m\u001b[39m\u001b[90mfrequency\u001b[39m\u001b[90m\u001b[1m)\u001b[22m\u001b[39m\u001b[90m by time\u001b[39m       297 ns \u001b[0m\u001b[1m<\u001b[22m\n",
       "\n",
       " Memory estimate\u001b[90m: \u001b[39m\u001b[33m160 bytes\u001b[39m, allocs estimate\u001b[90m: \u001b[39m\u001b[33m1\u001b[39m."
      ]
     },
     "execution_count": 5,
     "metadata": {},
     "output_type": "execute_result"
    }
   ],
   "source": [
    "@benchmark s(-0.5,-0.5)"
   ]
  },
  {
   "cell_type": "markdown",
   "id": "b6f749a1",
   "metadata": {},
   "source": [
    "# Improvment & changes"
   ]
  },
  {
   "cell_type": "code",
   "execution_count": 2,
   "id": "5f232a27",
   "metadata": {},
   "outputs": [
    {
     "data": {
      "text/plain": [
       "s (generic function with 1 method)"
      ]
     },
     "execution_count": 2,
     "metadata": {},
     "output_type": "execute_result"
    }
   ],
   "source": [
    "function s(args...)\n",
    "\td = length(args)\n",
    "\tmat = MMatrix{d+1,d+1,Float64}(1I)\n",
    "    @inbounds for k in range(1, length=d)\n",
    "\t\tmat[k,k]=args[k]\n",
    "\tend\n",
    "\treturn mat\n",
    "end"
   ]
  },
  {
   "cell_type": "code",
   "execution_count": 16,
   "id": "4d267e49",
   "metadata": {},
   "outputs": [
    {
     "name": "stdout",
     "output_type": "stream",
     "text": [
      "  11.400 ns (1 allocation: 80 bytes)\n"
     ]
    },
    {
     "data": {
      "text/plain": [
       "3×3 MMatrix{3, 3, Float64, 9} with indices SOneTo(3)×SOneTo(3):\n",
       " -0.5   0.0  0.0\n",
       "  0.0  -0.5  0.0\n",
       "  0.0   0.0  1.0"
      ]
     },
     "execution_count": 16,
     "metadata": {},
     "output_type": "execute_result"
    }
   ],
   "source": [
    "@btime s(-0.5,-0.5)"
   ]
  },
  {
   "cell_type": "code",
   "execution_count": 17,
   "id": "aabedd41",
   "metadata": {},
   "outputs": [
    {
     "data": {
      "text/plain": [
       "BenchmarkTools.Trial: 10000 samples with 999 evaluations.\n",
       " Range \u001b[90m(\u001b[39m\u001b[36m\u001b[1mmin\u001b[22m\u001b[39m … \u001b[35mmax\u001b[39m\u001b[90m):  \u001b[39m\u001b[36m\u001b[1m11.512 ns\u001b[22m\u001b[39m … \u001b[35m 2.270 μs\u001b[39m  \u001b[90m┊\u001b[39m GC \u001b[90m(\u001b[39mmin … max\u001b[90m): \u001b[39m 0.00% … 97.65%\n",
       " Time  \u001b[90m(\u001b[39m\u001b[34m\u001b[1mmedian\u001b[22m\u001b[39m\u001b[90m):     \u001b[39m\u001b[34m\u001b[1m12.312 ns              \u001b[22m\u001b[39m\u001b[90m┊\u001b[39m GC \u001b[90m(\u001b[39mmedian\u001b[90m):    \u001b[39m 0.00%\n",
       " Time  \u001b[90m(\u001b[39m\u001b[32m\u001b[1mmean\u001b[22m\u001b[39m ± \u001b[32mσ\u001b[39m\u001b[90m):   \u001b[39m\u001b[32m\u001b[1m18.113 ns\u001b[22m\u001b[39m ± \u001b[32m83.803 ns\u001b[39m  \u001b[90m┊\u001b[39m GC \u001b[90m(\u001b[39mmean ± σ\u001b[90m):  \u001b[39m18.75% ±  4.04%\n",
       "\n",
       "  \u001b[39m█\u001b[34m█\u001b[39m\u001b[39m▇\u001b[39m▄\u001b[39m▃\u001b[39m▂\u001b[39m▁\u001b[39m▁\u001b[39m \u001b[39m▁\u001b[32m▂\u001b[39m\u001b[39m▃\u001b[39m▂\u001b[39m▁\u001b[39m \u001b[39m \u001b[39m \u001b[39m \u001b[39m \u001b[39m \u001b[39m \u001b[39m \u001b[39m \u001b[39m \u001b[39m \u001b[39m \u001b[39m \u001b[39m \u001b[39m \u001b[39m \u001b[39m \u001b[39m \u001b[39m \u001b[39m \u001b[39m \u001b[39m \u001b[39m \u001b[39m \u001b[39m \u001b[39m \u001b[39m \u001b[39m \u001b[39m \u001b[39m \u001b[39m \u001b[39m \u001b[39m \u001b[39m \u001b[39m \u001b[39m \u001b[39m▁\u001b[39m \u001b[39m▂\u001b[39m▁\u001b[39m \u001b[39m \u001b[39m \u001b[39m \u001b[39m \u001b[39m \u001b[39m▂\n",
       "  \u001b[39m█\u001b[34m█\u001b[39m\u001b[39m█\u001b[39m█\u001b[39m█\u001b[39m█\u001b[39m█\u001b[39m█\u001b[39m█\u001b[39m█\u001b[32m█\u001b[39m\u001b[39m█\u001b[39m█\u001b[39m█\u001b[39m█\u001b[39m▇\u001b[39m▇\u001b[39m▆\u001b[39m▆\u001b[39m▆\u001b[39m▆\u001b[39m▆\u001b[39m▇\u001b[39m▆\u001b[39m▇\u001b[39m▅\u001b[39m▅\u001b[39m▅\u001b[39m▅\u001b[39m▆\u001b[39m▅\u001b[39m▆\u001b[39m▄\u001b[39m▆\u001b[39m▅\u001b[39m▄\u001b[39m▄\u001b[39m▆\u001b[39m▄\u001b[39m▄\u001b[39m▅\u001b[39m▄\u001b[39m▄\u001b[39m▃\u001b[39m▃\u001b[39m▃\u001b[39m▁\u001b[39m▃\u001b[39m▇\u001b[39m▅\u001b[39m█\u001b[39m█\u001b[39m█\u001b[39m█\u001b[39m▇\u001b[39m▇\u001b[39m▆\u001b[39m▅\u001b[39m▅\u001b[39m \u001b[39m█\n",
       "  11.5 ns\u001b[90m      \u001b[39m\u001b[90mHistogram: \u001b[39m\u001b[90m\u001b[1mlog(\u001b[22m\u001b[39m\u001b[90mfrequency\u001b[39m\u001b[90m\u001b[1m)\u001b[22m\u001b[39m\u001b[90m by time\u001b[39m        52 ns \u001b[0m\u001b[1m<\u001b[22m\n",
       "\n",
       " Memory estimate\u001b[90m: \u001b[39m\u001b[33m80 bytes\u001b[39m, allocs estimate\u001b[90m: \u001b[39m\u001b[33m1\u001b[39m."
      ]
     },
     "execution_count": 17,
     "metadata": {},
     "output_type": "execute_result"
    }
   ],
   "source": [
    "@benchmark s(-0.5,-0.5)"
   ]
  },
  {
   "cell_type": "markdown",
   "id": "3dab0996",
   "metadata": {},
   "source": [
    "# Paralelization"
   ]
  },
  {
   "cell_type": "code",
   "execution_count": 3,
   "id": "defc42b9",
   "metadata": {},
   "outputs": [
    {
     "data": {
      "text/plain": [
       "sasyn (generic function with 1 method)"
      ]
     },
     "execution_count": 3,
     "metadata": {},
     "output_type": "execute_result"
    }
   ],
   "source": [
    "function sasyn(args...)\n",
    "\td = length(args)\n",
    "\tmat = MMatrix{d+1,d+1,Float64}(1I)\n",
    "    @async for k in range(1, length=d)\n",
    "\t\tmat[k,k]=args[k]\n",
    "\tend\n",
    "\treturn mat\n",
    "end"
   ]
  },
  {
   "cell_type": "markdown",
   "id": "e1c3497a",
   "metadata": {},
   "source": [
    "## sync and async made the funcion slower"
   ]
  },
  {
   "cell_type": "code",
   "execution_count": 11,
   "id": "de53ceb7",
   "metadata": {},
   "outputs": [
    {
     "data": {
      "text/plain": [
       "BenchmarkTools.Trial: 5368 samples with 651 evaluations.\n",
       " Range \u001b[90m(\u001b[39m\u001b[36m\u001b[1mmin\u001b[22m\u001b[39m … \u001b[35mmax\u001b[39m\u001b[90m):  \u001b[39m\u001b[36m\u001b[1m482.642 ns\u001b[22m\u001b[39m … \u001b[35m 2.025 ms\u001b[39m  \u001b[90m┊\u001b[39m GC \u001b[90m(\u001b[39mmin … max\u001b[90m): \u001b[39m 0.00% … 99.93%\n",
       " Time  \u001b[90m(\u001b[39m\u001b[34m\u001b[1mmedian\u001b[22m\u001b[39m\u001b[90m):     \u001b[39m\u001b[34m\u001b[1m563.287 ns              \u001b[22m\u001b[39m\u001b[90m┊\u001b[39m GC \u001b[90m(\u001b[39mmedian\u001b[90m):    \u001b[39m 0.00%\n",
       " Time  \u001b[90m(\u001b[39m\u001b[32m\u001b[1mmean\u001b[22m\u001b[39m ± \u001b[32mσ\u001b[39m\u001b[90m):   \u001b[39m\u001b[32m\u001b[1m  1.422 μs\u001b[22m\u001b[39m ± \u001b[32m33.908 μs\u001b[39m  \u001b[90m┊\u001b[39m GC \u001b[90m(\u001b[39mmean ± σ\u001b[90m):  \u001b[39m57.32% ±  3.05%\n",
       "\n",
       "  \u001b[39m \u001b[39m \u001b[39m \u001b[39m▄\u001b[39m█\u001b[39m▆\u001b[34m▃\u001b[39m\u001b[39m▁\u001b[39m \u001b[39m \u001b[39m \u001b[39m \u001b[39m \u001b[39m \u001b[39m \u001b[39m \u001b[39m \u001b[39m \u001b[39m \u001b[39m \u001b[39m \u001b[39m \u001b[39m \u001b[39m \u001b[39m \u001b[39m \u001b[39m \u001b[39m \u001b[39m \u001b[39m \u001b[39m \u001b[39m \u001b[39m \u001b[39m \u001b[39m \u001b[39m \u001b[39m \u001b[39m \u001b[39m \u001b[39m \u001b[39m \u001b[39m \u001b[39m \u001b[39m \u001b[39m \u001b[39m \u001b[39m \u001b[39m \u001b[39m \u001b[39m \u001b[39m \u001b[39m \u001b[39m \u001b[39m \u001b[39m \u001b[39m \u001b[39m \u001b[39m \u001b[39m \u001b[39m \u001b[39m \u001b[39m \n",
       "  \u001b[39m▃\u001b[39m▄\u001b[39m█\u001b[39m█\u001b[39m█\u001b[39m█\u001b[34m█\u001b[39m\u001b[39m█\u001b[39m▆\u001b[39m▅\u001b[39m▅\u001b[39m▅\u001b[39m▄\u001b[39m▃\u001b[39m▃\u001b[39m▃\u001b[39m▃\u001b[39m▃\u001b[39m▃\u001b[39m▃\u001b[39m▃\u001b[39m▂\u001b[39m▂\u001b[39m▂\u001b[39m▂\u001b[39m▂\u001b[39m▂\u001b[39m▂\u001b[39m▂\u001b[39m▂\u001b[39m▂\u001b[39m▂\u001b[39m▂\u001b[39m▂\u001b[39m▂\u001b[39m▂\u001b[39m▂\u001b[39m▂\u001b[39m▂\u001b[39m▂\u001b[39m▂\u001b[39m▂\u001b[39m▂\u001b[39m▂\u001b[39m▂\u001b[39m▂\u001b[39m▂\u001b[39m▂\u001b[39m▂\u001b[39m▂\u001b[39m▂\u001b[39m▁\u001b[39m▂\u001b[39m▂\u001b[39m▁\u001b[39m▂\u001b[39m▂\u001b[39m▂\u001b[39m▂\u001b[39m▂\u001b[39m \u001b[39m▃\n",
       "  483 ns\u001b[90m          Histogram: frequency by time\u001b[39m         1.29 μs \u001b[0m\u001b[1m<\u001b[22m\n",
       "\n",
       " Memory estimate\u001b[90m: \u001b[39m\u001b[33m608 bytes\u001b[39m, allocs estimate\u001b[90m: \u001b[39m\u001b[33m6\u001b[39m."
      ]
     },
     "execution_count": 11,
     "metadata": {},
     "output_type": "execute_result"
    }
   ],
   "source": [
    "@benchmark sasyn(-0.5,-0.5)"
   ]
  },
  {
   "cell_type": "code",
   "execution_count": 4,
   "id": "b3cc1644",
   "metadata": {},
   "outputs": [
    {
     "data": {
      "text/plain": [
       "ssimd (generic function with 1 method)"
      ]
     },
     "execution_count": 4,
     "metadata": {},
     "output_type": "execute_result"
    }
   ],
   "source": [
    "function ssimd(args...)\n",
    "\td = length(args)\n",
    "\tmat = MMatrix{d+1,d+1,Float64}(1I)\n",
    "    @simd for k in range(1, length=d)\n",
    "\t\tmat[k,k]=args[k]\n",
    "\tend\n",
    "\treturn mat\n",
    "end"
   ]
  },
  {
   "cell_type": "markdown",
   "id": "13324b73",
   "metadata": {},
   "source": [
    "## With the usage of simd we improve the old funcion but we still got worse timing"
   ]
  },
  {
   "cell_type": "code",
   "execution_count": 9,
   "id": "90f6fca4",
   "metadata": {},
   "outputs": [
    {
     "data": {
      "text/plain": [
       "BenchmarkTools.Trial: 10000 samples with 999 evaluations.\n",
       " Range \u001b[90m(\u001b[39m\u001b[36m\u001b[1mmin\u001b[22m\u001b[39m … \u001b[35mmax\u001b[39m\u001b[90m):  \u001b[39m\u001b[36m\u001b[1m12.613 ns\u001b[22m\u001b[39m … \u001b[35m 1.771 μs\u001b[39m  \u001b[90m┊\u001b[39m GC \u001b[90m(\u001b[39mmin … max\u001b[90m): \u001b[39m 0.00% … 94.37%\n",
       " Time  \u001b[90m(\u001b[39m\u001b[34m\u001b[1mmedian\u001b[22m\u001b[39m\u001b[90m):     \u001b[39m\u001b[34m\u001b[1m14.114 ns              \u001b[22m\u001b[39m\u001b[90m┊\u001b[39m GC \u001b[90m(\u001b[39mmedian\u001b[90m):    \u001b[39m 0.00%\n",
       " Time  \u001b[90m(\u001b[39m\u001b[32m\u001b[1mmean\u001b[22m\u001b[39m ± \u001b[32mσ\u001b[39m\u001b[90m):   \u001b[39m\u001b[32m\u001b[1m19.963 ns\u001b[22m\u001b[39m ± \u001b[32m68.910 ns\u001b[39m  \u001b[90m┊\u001b[39m GC \u001b[90m(\u001b[39mmean ± σ\u001b[90m):  \u001b[39m13.84% ±  4.02%\n",
       "\n",
       "  \u001b[39m▅\u001b[34m█\u001b[39m\u001b[39m▅\u001b[39m▁\u001b[39m▃\u001b[39m▁\u001b[39m \u001b[32m \u001b[39m\u001b[39m▁\u001b[39m▂\u001b[39m▁\u001b[39m \u001b[39m \u001b[39m \u001b[39m \u001b[39m \u001b[39m \u001b[39m \u001b[39m \u001b[39m \u001b[39m \u001b[39m \u001b[39m \u001b[39m \u001b[39m \u001b[39m \u001b[39m \u001b[39m \u001b[39m \u001b[39m \u001b[39m \u001b[39m \u001b[39m \u001b[39m \u001b[39m \u001b[39m \u001b[39m \u001b[39m \u001b[39m \u001b[39m \u001b[39m \u001b[39m \u001b[39m \u001b[39m \u001b[39m \u001b[39m \u001b[39m \u001b[39m \u001b[39m \u001b[39m \u001b[39m \u001b[39m \u001b[39m \u001b[39m \u001b[39m \u001b[39m \u001b[39m \u001b[39m \u001b[39m \u001b[39m \u001b[39m▁\n",
       "  \u001b[39m█\u001b[34m█\u001b[39m\u001b[39m█\u001b[39m█\u001b[39m█\u001b[39m█\u001b[39m█\u001b[32m█\u001b[39m\u001b[39m█\u001b[39m█\u001b[39m█\u001b[39m▇\u001b[39m▆\u001b[39m▇\u001b[39m█\u001b[39m▇\u001b[39m▆\u001b[39m▅\u001b[39m▅\u001b[39m▅\u001b[39m▄\u001b[39m▃\u001b[39m▁\u001b[39m▄\u001b[39m▄\u001b[39m▄\u001b[39m▃\u001b[39m▃\u001b[39m▁\u001b[39m▁\u001b[39m▁\u001b[39m▁\u001b[39m▁\u001b[39m▁\u001b[39m▃\u001b[39m▁\u001b[39m▁\u001b[39m▁\u001b[39m▁\u001b[39m▁\u001b[39m▁\u001b[39m▃\u001b[39m▁\u001b[39m▃\u001b[39m▅\u001b[39m▆\u001b[39m▆\u001b[39m█\u001b[39m█\u001b[39m█\u001b[39m█\u001b[39m█\u001b[39m█\u001b[39m▇\u001b[39m▇\u001b[39m▇\u001b[39m▆\u001b[39m▆\u001b[39m▆\u001b[39m \u001b[39m█\n",
       "  12.6 ns\u001b[90m      \u001b[39m\u001b[90mHistogram: \u001b[39m\u001b[90m\u001b[1mlog(\u001b[22m\u001b[39m\u001b[90mfrequency\u001b[39m\u001b[90m\u001b[1m)\u001b[22m\u001b[39m\u001b[90m by time\u001b[39m      74.3 ns \u001b[0m\u001b[1m<\u001b[22m\n",
       "\n",
       " Memory estimate\u001b[90m: \u001b[39m\u001b[33m80 bytes\u001b[39m, allocs estimate\u001b[90m: \u001b[39m\u001b[33m1\u001b[39m."
      ]
     },
     "execution_count": 9,
     "metadata": {},
     "output_type": "execute_result"
    }
   ],
   "source": [
    "@benchmark ssimd(-0.5,-0.5)"
   ]
  },
  {
   "cell_type": "markdown",
   "id": "36cfcdeb",
   "metadata": {},
   "source": [
    "# Using threads the funcion is faster then the async but slowen then simd\n",
    "## (tested with 4 threads)"
   ]
  },
  {
   "cell_type": "code",
   "execution_count": 2,
   "id": "83845f7f",
   "metadata": {},
   "outputs": [
    {
     "data": {
      "text/plain": [
       "4"
      ]
     },
     "execution_count": 2,
     "metadata": {},
     "output_type": "execute_result"
    }
   ],
   "source": [
    "Threads.nthreads()"
   ]
  },
  {
   "cell_type": "code",
   "execution_count": 5,
   "id": "a51dce97",
   "metadata": {},
   "outputs": [
    {
     "data": {
      "text/plain": [
       "sthread (generic function with 1 method)"
      ]
     },
     "execution_count": 5,
     "metadata": {},
     "output_type": "execute_result"
    }
   ],
   "source": [
    "function sthread(args...)\n",
    "\td = length(args)\n",
    "\tmat = MMatrix{d+1,d+1,Float64}(1I)\n",
    "    Threads.@spawn for k in range(1, length=d)\n",
    "\t\tmat[k,k]=args[k]\n",
    "\tend\n",
    "\treturn mat\n",
    "end"
   ]
  },
  {
   "cell_type": "code",
   "execution_count": 7,
   "id": "9c4b05d9",
   "metadata": {},
   "outputs": [
    {
     "data": {
      "text/plain": [
       "BenchmarkTools.Trial: 10000 samples with 811 evaluations.\n",
       " Range \u001b[90m(\u001b[39m\u001b[36m\u001b[1mmin\u001b[22m\u001b[39m … \u001b[35mmax\u001b[39m\u001b[90m):  \u001b[39m\u001b[36m\u001b[1m296.547 ns\u001b[22m\u001b[39m … \u001b[35m  8.787 μs\u001b[39m  \u001b[90m┊\u001b[39m GC \u001b[90m(\u001b[39mmin … max\u001b[90m): \u001b[39m 0.00% … 91.15%\n",
       " Time  \u001b[90m(\u001b[39m\u001b[34m\u001b[1mmedian\u001b[22m\u001b[39m\u001b[90m):     \u001b[39m\u001b[34m\u001b[1m483.107 ns               \u001b[22m\u001b[39m\u001b[90m┊\u001b[39m GC \u001b[90m(\u001b[39mmedian\u001b[90m):    \u001b[39m 0.00%\n",
       " Time  \u001b[90m(\u001b[39m\u001b[32m\u001b[1mmean\u001b[22m\u001b[39m ± \u001b[32mσ\u001b[39m\u001b[90m):   \u001b[39m\u001b[32m\u001b[1m544.948 ns\u001b[22m\u001b[39m ± \u001b[32m594.409 ns\u001b[39m  \u001b[90m┊\u001b[39m GC \u001b[90m(\u001b[39mmean ± σ\u001b[90m):  \u001b[39m11.17% ±  9.44%\n",
       "\n",
       "  \u001b[39m \u001b[39m▂\u001b[34m█\u001b[39m\u001b[32m \u001b[39m\u001b[39m \u001b[39m \u001b[39m \u001b[39m \u001b[39m \u001b[39m \u001b[39m \u001b[39m \u001b[39m \u001b[39m \u001b[39m \u001b[39m \u001b[39m \u001b[39m \u001b[39m \u001b[39m \u001b[39m \u001b[39m \u001b[39m \u001b[39m \u001b[39m \u001b[39m \u001b[39m \u001b[39m \u001b[39m \u001b[39m \u001b[39m \u001b[39m \u001b[39m \u001b[39m \u001b[39m \u001b[39m \u001b[39m \u001b[39m \u001b[39m \u001b[39m \u001b[39m \u001b[39m \u001b[39m \u001b[39m \u001b[39m \u001b[39m \u001b[39m \u001b[39m \u001b[39m \u001b[39m \u001b[39m \u001b[39m \u001b[39m \u001b[39m \u001b[39m \u001b[39m \u001b[39m \u001b[39m \u001b[39m \u001b[39m \u001b[39m \u001b[39m \u001b[39m \n",
       "  \u001b[39m▃\u001b[39m█\u001b[34m█\u001b[39m\u001b[32m▃\u001b[39m\u001b[39m▃\u001b[39m▂\u001b[39m▂\u001b[39m▂\u001b[39m▂\u001b[39m▂\u001b[39m▁\u001b[39m▁\u001b[39m▁\u001b[39m▁\u001b[39m▁\u001b[39m▁\u001b[39m▁\u001b[39m▁\u001b[39m▁\u001b[39m▁\u001b[39m▁\u001b[39m▁\u001b[39m▁\u001b[39m▁\u001b[39m▁\u001b[39m▁\u001b[39m▁\u001b[39m▁\u001b[39m▁\u001b[39m▁\u001b[39m▁\u001b[39m▁\u001b[39m▁\u001b[39m▁\u001b[39m▁\u001b[39m▁\u001b[39m▂\u001b[39m▁\u001b[39m▁\u001b[39m▁\u001b[39m▁\u001b[39m▁\u001b[39m▁\u001b[39m▁\u001b[39m▁\u001b[39m▁\u001b[39m▁\u001b[39m▁\u001b[39m▁\u001b[39m▁\u001b[39m▁\u001b[39m▁\u001b[39m▁\u001b[39m▁\u001b[39m▁\u001b[39m▁\u001b[39m▁\u001b[39m▁\u001b[39m▁\u001b[39m▂\u001b[39m▂\u001b[39m \u001b[39m▂\n",
       "  297 ns\u001b[90m           Histogram: frequency by time\u001b[39m          5.5 μs \u001b[0m\u001b[1m<\u001b[22m\n",
       "\n",
       " Memory estimate\u001b[90m: \u001b[39m\u001b[33m620 bytes\u001b[39m, allocs estimate\u001b[90m: \u001b[39m\u001b[33m6\u001b[39m."
      ]
     },
     "execution_count": 7,
     "metadata": {},
     "output_type": "execute_result"
    }
   ],
   "source": [
    "@benchmark sthread(-0.5,-0.5)"
   ]
  },
  {
   "cell_type": "code",
   "execution_count": 6,
   "id": "e6078c76",
   "metadata": {},
   "outputs": [
    {
     "data": {
      "text/plain": [
       "get_times (generic function with 1 method)"
      ]
     },
     "execution_count": 6,
     "metadata": {},
     "output_type": "execute_result"
    }
   ],
   "source": [
    "function get_times(func,N)\n",
    "    times = Float64[]\n",
    "    for n in N\n",
    "        bench = @benchmark $func($(-0.5),$(-0.5))\n",
    "        push!(times, minimum(bench.times))\n",
    "    end\n",
    "    return times\n",
    "end"
   ]
  },
  {
   "cell_type": "code",
   "execution_count": 7,
   "id": "9b7ac6d7",
   "metadata": {},
   "outputs": [
    {
     "data": {
      "text/plain": [
       "4-element Vector{Float64}:\n",
       " 12.4\n",
       " 12.4\n",
       " 12.312312312312311\n",
       " 12.5"
      ]
     },
     "execution_count": 7,
     "metadata": {},
     "output_type": "execute_result"
    }
   ],
   "source": [
    "N = range(1, 4, step=1)\n",
    "times1 = get_times(s,N)"
   ]
  },
  {
   "cell_type": "code",
   "execution_count": 8,
   "id": "0762b18b",
   "metadata": {},
   "outputs": [
    {
     "data": {
      "text/plain": [
       "4-element Vector{Float64}:\n",
       " 414.2191142191142\n",
       " 456.1576354679803\n",
       " 500.0\n",
       " 470.7070707070707"
      ]
     },
     "execution_count": 8,
     "metadata": {},
     "output_type": "execute_result"
    }
   ],
   "source": [
    "times2 = get_times(sasyn,N)\n"
   ]
  },
  {
   "cell_type": "code",
   "execution_count": 9,
   "id": "6a8b583d",
   "metadata": {},
   "outputs": [
    {
     "data": {
      "text/plain": [
       "4-element Vector{Float64}:\n",
       " 12.812812812812814\n",
       " 12.751004016064257\n",
       " 24.424424424424423\n",
       " 12.4"
      ]
     },
     "execution_count": 9,
     "metadata": {},
     "output_type": "execute_result"
    }
   ],
   "source": [
    "times3 = get_times(ssimd,N)\n"
   ]
  },
  {
   "cell_type": "code",
   "execution_count": 10,
   "id": "3484a3da",
   "metadata": {},
   "outputs": [
    {
     "data": {
      "text/plain": [
       "4-element Vector{Float64}:\n",
       " 189.3835616438356\n",
       " 357.0\n",
       " 290.4593639575972\n",
       " 205.60747663551402"
      ]
     },
     "execution_count": 10,
     "metadata": {},
     "output_type": "execute_result"
    }
   ],
   "source": [
    "times4 = get_times(sthread,N)"
   ]
  },
  {
   "cell_type": "code",
   "execution_count": null,
   "id": "eb5b87fa",
   "metadata": {},
   "outputs": [],
   "source": []
  }
 ],
 "metadata": {
  "kernelspec": {
   "display_name": "Julia 1.6.5",
   "language": "julia",
   "name": "julia-1.6"
  },
  "language_info": {
   "file_extension": ".jl",
   "mimetype": "application/julia",
   "name": "julia",
   "version": "1.6.5"
  }
 },
 "nbformat": 4,
 "nbformat_minor": 5
}
